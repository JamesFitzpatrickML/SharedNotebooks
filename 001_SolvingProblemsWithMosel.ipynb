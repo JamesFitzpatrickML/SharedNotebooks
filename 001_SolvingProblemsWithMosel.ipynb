{
 "cells": [
  {
   "cell_type": "markdown",
   "id": "d59cac34",
   "metadata": {},
   "source": [
    "# Formulating the Problem"
   ]
  },
  {
   "cell_type": "markdown",
   "id": "83bf13af",
   "metadata": {},
   "source": [
    "In class we saw an example of an optimisation problem. Analysis of the business problem revealed a suitbale formulation for the problem as a Linear Programming problem. Once the problem could be formulated it could then be written down as a mathematical model. Once the mathematical model is determined, it remains to take this problem and write it down using a modelling language so that we may use computational tools to solve it. This is usually the easiest part of the solution process, and may not be the final step. Inspection of the solution to the problem as formulated may reveal deficiencies in the modelling, necessitating changes to the formulation or even to the problem that is being solved.\n",
    "\n",
    "In this tutorial we will focus on taking a simple business problem and interpreting it as a linear programming problem. Once we can do this, we will then focus on writing the problem with Mosel and then solving it, as well as inspecting the properties of the solution."
   ]
  },
  {
   "cell_type": "markdown",
   "id": "b7d10050",
   "metadata": {},
   "source": [
    "## The Business Problem"
   ]
  },
  {
   "cell_type": "markdown",
   "id": "9ab86e29",
   "metadata": {},
   "source": [
    "Here we have a _product mix_ problem. The essence of it is that SuitUsir, a company that manufactures suits wishes to alter its production strategy to adapt to a changing market. The company has limited resources, however, and although it can produce multiple new lines of suits, it is constrained by production capacity and raw materials. The goal is to find the production mix that gives the maximum profit, given these production capacity constraints. \n",
    "\n",
    "As stated in class, to be able to formulate this problem, we need to know some information (which must be gathered by someone, and we hope that it is reliable, otherwise our modelling and optimising may be a futile task) first:\n",
    "\n",
    "- In which facilities can we produce each type of suit?\n",
    "- What production capacity is required per unit for each type of suit?\n",
    "- How much capacity is available at each location?\n",
    "- How much profit can we make for each type of suit, per unit?\n",
    "\n",
    "Once we know these, we can start modelling. They are outlined in the table below:"
   ]
  },
  {
   "cell_type": "markdown",
   "id": "47bea0d5",
   "metadata": {},
   "source": [
    "![SuitUsir Production Parameters](images/suitusir.png)"
   ]
  },
  {
   "cell_type": "markdown",
   "id": "7b27b177",
   "metadata": {},
   "source": [
    "We can see that in Donegal can we only devote additional resources to produce woolen suits. Four percent of the capacity is allocated for production and each unit requires one percent of the *total* capacity. Belfast can only be used to produce linen suits, which require percent per unit of the total industrial capacity. However, in Belfast, we have twelve percent of the toal capacity available. This means that there is the potential to produce as many as six linen suits perhour. In Dublin we can use additional resources to produce both types of suit, with the woolen and linen suits requiring three and two percent of the toal capacity respectively and an available capacity of eighteen percent.\n",
    "\n",
    "It is clear to see that the linen suits produce more profit per unit, but it remains to see whether or not we can maximise profits by focusing entirely on this line of suits. The solution is subject to the capacity constraints."
   ]
  },
  {
   "cell_type": "markdown",
   "id": "8d2f54fc",
   "metadata": {},
   "source": [
    "## Formulating the Linear Programme"
   ]
  },
  {
   "cell_type": "markdown",
   "id": "04b45863",
   "metadata": {},
   "source": [
    "To make decisions about the type of suits that we produce, we need to decide how much of each suit to make. This sounds like a redundant statement, but what it tells us is that we need a decision variable to tell us how many woolen suits we will make and how many linen suits we will make.\n",
    "\n",
    "To that end, we introduce two variables to $$x_{woollen}$$ and $$x_{linen}$$."
   ]
  },
  {
   "cell_type": "markdown",
   "id": "82c1ba61",
   "metadata": {},
   "source": [
    "Now, we will operate on a fixed-cost business model for now, which may not be realistic, but is sufficient for us to understand the basics of modelling. We assume that no matter how many suits of each kind we make, the profit will always be the same because the costs do not change, nor does the capacity requirements. \n",
    "\n",
    "We will take the variables (for now) to be non-negative continuous variables. That means that each will, in the solution, be a real number telling us what percentage of production to devote to suit productions. This may also be somewhat unrealistic, but we will address this issue later."
   ]
  },
  {
   "cell_type": "markdown",
   "id": "3268a2bb",
   "metadata": {},
   "source": [
    "$$x_{woollen}, x_{linen} \\in \\mathbb{R}^{+}_{0}$$\n",
    "\n",
    "or:\n",
    "\n",
    "$$x_{woollen}, x_{linen} \\geq 0 $$"
   ]
  },
  {
   "cell_type": "markdown",
   "id": "8dfe9aa6",
   "metadata": {},
   "source": [
    "We can see that at the Donegal plant, we must not allow production to exceed four percent of the total industrial capacity. We may write this constraint as:"
   ]
  },
  {
   "cell_type": "markdown",
   "id": "13a3ce4c",
   "metadata": {},
   "source": [
    "$$(1 \\times x_{woollen}) + (0 \\times x_{linen}) \\leq 4$$"
   ]
  },
  {
   "cell_type": "markdown",
   "id": "902614e1",
   "metadata": {},
   "source": [
    "Notice that we have unity in front of the first term (since each woollen suit requires one percent of the total capacity there) and a zero in front of the second term because we may not produce any linen suits in Donegal. Next, we take into account the similar constraints for the Belfast facility:"
   ]
  },
  {
   "cell_type": "markdown",
   "id": "cab7e140",
   "metadata": {},
   "source": [
    "$$(0 \\times x_{woollen}) + (2 \\times x_{linen}) \\leq 12$$"
   ]
  },
  {
   "cell_type": "markdown",
   "id": "213e25e4",
   "metadata": {},
   "source": [
    "And then for the Dublin facility we can produce both types of suit, so both terms are included:"
   ]
  },
  {
   "cell_type": "markdown",
   "id": "2b47662d",
   "metadata": {},
   "source": [
    "$$ (3 \\times x_{woollen}) + (2 \\times x_{linen}) \\leq 18 $$"
   ]
  },
  {
   "cell_type": "markdown",
   "id": "d881e737",
   "metadata": {},
   "source": [
    "Finally, we note that we wish to maximise the profit we make. This profit, represented by a single scalar (the sum of the profits that we make by producing any number of both types of suit) and is a quantity used to emasure the quality of the solution. Our objective here is to find the solution(s) that maximise this quantity.\n",
    "\n",
    "If we take it into account, we may write the full linear programme as:"
   ]
  },
  {
   "cell_type": "markdown",
   "id": "c16d6f74",
   "metadata": {},
   "source": [
    "$$maximise \\quad \\quad (3 \\times x_{woollen}) + (5 \\times x_{linen})$$ subject to:\n",
    "$$(1 \\times x_{woollen}) + (0 \\times x_{linen}) \\leq 4$$\n",
    "$$(0 \\times x_{woollen}) + (2 \\times x_{linen}) \\leq 12$$\n",
    "$$ (3 \\times x_{woollen}) + (2 \\times x_{linen}) \\leq 18 $$\n",
    "$$x_{woollen}, x_{linen} \\geq 0 $$"
   ]
  },
  {
   "cell_type": "markdown",
   "id": "01ee247f",
   "metadata": {},
   "source": [
    "We may assume the variables are real, since we are defining a linear programme."
   ]
  },
  {
   "cell_type": "markdown",
   "id": "2200ebad",
   "metadata": {},
   "source": [
    "## Writing a Linear Programme with Mosel"
   ]
  },
  {
   "cell_type": "markdown",
   "id": "18f36169",
   "metadata": {},
   "source": [
    "Once we have gone through the steps of collecting data, modelling and formulating, only then may we consider attempting to solve the problem. In this case, the problem is small so we may write it in Mosel manually. We can enter the data line-by-line. For large linear programmes, we may not be able to do this, but we need not worry about that yet. \n",
    "\n",
    "First, let us declare the variables. First we need only declare that they exist (since we don't know any appropriate initial values for them in general). We will need two variables, one to decide how many woollen suits we should make and one to decide how many linen suits we should make."
   ]
  },
  {
   "cell_type": "code",
   "execution_count": null,
   "id": "a3a8ab39",
   "metadata": {},
   "outputs": [],
   "source": [
    "model \"SuitUsir\"\n",
    "    uses \"mmxprs\"\n",
    "    declarations\n",
    "        x_woollen: mpvar\n",
    "        x_linen: mpvar\n",
    "    end-declarations\n",
    "end-model"
   ]
  },
  {
   "cell_type": "markdown",
   "id": "2f808c5b",
   "metadata": {},
   "source": [
    "Next we need to define the objective function."
   ]
  },
  {
   "cell_type": "code",
   "execution_count": null,
   "id": "cae4820b",
   "metadata": {},
   "outputs": [],
   "source": [
    "model \"SuitUsir\"\n",
    "    uses \"mmxprs\"\n",
    "    declarations\n",
    "        x_woollen: mpvar\n",
    "        x_linen: mpvar\n",
    "    end-declarations\n",
    "    profit := 3 * x_woollen + 5 * x_linen\n",
    "end-model"
   ]
  },
  {
   "cell_type": "markdown",
   "id": "3ea1a4dc",
   "metadata": {},
   "source": [
    "Following this, we define each of the constraints:"
   ]
  },
  {
   "cell_type": "code",
   "execution_count": null,
   "id": "ab35dcc9",
   "metadata": {},
   "outputs": [],
   "source": [
    "model \"SuitUsir\"\n",
    "    uses \"mmxprs\"\n",
    "    declarations\n",
    "        x_woollen: mpvar\n",
    "        x_linen: mpvar\n",
    "    end-declarations\n",
    "    profit := 3 * x_woollen + 5 * x_linen\n",
    "    donegal := x_woollen <= 4\n",
    "    belfast := 2 * x_linen <= 12\n",
    "    dublin := 3 * x_woollen + 2 * x_linen <= 18\n",
    "end-model"
   ]
  },
  {
   "cell_type": "markdown",
   "id": "3a171569",
   "metadata": {},
   "source": [
    "Finally, we need to tell Mosel that we wish to solve a maxmimisation problem."
   ]
  },
  {
   "cell_type": "code",
   "execution_count": null,
   "id": "45f82dfa",
   "metadata": {},
   "outputs": [],
   "source": [
    "model \"SuitUsir\"\n",
    "    uses \"mmxprs\"\n",
    "    declarations\n",
    "        x_woollen: mpvar\n",
    "        x_linen: mpvar\n",
    "    end-declarations\n",
    "    profit := 3 * x_woollen + 5 * x_linen\n",
    "    donegal := x_woollen <= 4\n",
    "    belfast := 2 * x_linen <= 12\n",
    "    dublin := 3 * x_woollen + 2 * x_linen <= 18\n",
    "    maximize(profit)\n",
    "end-model"
   ]
  },
  {
   "cell_type": "markdown",
   "id": "be9acca2",
   "metadata": {},
   "source": [
    "This will have called Xpress to solve our Mosel model. Once we do this (it should not take long at all), we would like to inspect the solution. Two major things interest us for now: the profit that we make and the values of each variable, that is, the percentage of production we allocate to the suits of each type.\n",
    "\n",
    "We use the _getobjval_ method to retrieve the objective value of the optimal solution (the product mix that maximise the profit).\n",
    "\n",
    "We use the _getsol_ method to retrieve the solution values of the optimal solution."
   ]
  },
  {
   "cell_type": "code",
   "execution_count": null,
   "id": "f91c74db",
   "metadata": {},
   "outputs": [],
   "source": [
    "model \"SuitUsir\"\n",
    "    uses \"mmxprs\"\n",
    "    declarations\n",
    "        x_woollen: mpvar\n",
    "        x_linen: mpvar\n",
    "    end-declarations\n",
    "    profit := 3 * x_woollen + 5 * x_linen\n",
    "    donegal := x_woollen <= 4\n",
    "    belfast := 2 * x_linen <= 12\n",
    "    dublin := 3 * x_woollen + 2 * x_linen <= 18\n",
    "    maximize(profit)\n",
    "    writeln(\"Number of woollen suits to make: \", getsol(x_woollen))\n",
    "    writeln(\"Number of linen suits to make: \", getsol(x_linen))\n",
    "    writeln(\"Profit attained: \", getobjval)\n",
    "end-model"
   ]
  },
  {
   "cell_type": "markdown",
   "id": "21d14f40",
   "metadata": {},
   "source": [
    "## Limitations of the Model"
   ]
  },
  {
   "cell_type": "markdown",
   "id": "a479be3e",
   "metadata": {},
   "source": [
    "Here we have made some bold assumptions about the problem that has allowed us to model it that way. \n",
    "\n",
    "- Firstly, we have allowed the constraints affecting one facility to affect another. It is possible that the prodcution capacity constraints may affect each facility differently.\n",
    "- Secondly, we assume that we can produce any number of suits. In reality, we can only produce them in discrete quantities. We may wish to model out decision variables as integers.\n",
    "- Thirdly, we might find that the level of profit that we make for producing each suit depends on the facility that we are considering.\n",
    "\n",
    "Next, we will try to construct an improved model for our problem. We will allow production of linen and woollen suits at each facility to be indepenent in terms of industrial capacity. That is, while production of linen suits at the Donegal facility may be capped at four percent of the Donegal facility's capacity, the production of linen suits in Dublin is not affected by that constraint. This means that we will we need to knwo not how many linen suits are being made in total, but at each facility. Secondly, for the sake of demonstration, we will allow the values of the decision variables to be only integers. \n",
    "\n",
    "The analysis team have conferred with the risk department. The risk department has determined that in this period of high inflation, their risk score may not exceed 2%. Production of suits at each facility incurs a risk score that grows linearly with the number of units produced. Although production of suits at one facility is not impacted by the capacity at one facility, we note that risk is a quantity that is common to the entire production, and wherever the production is, the risk may not exceed the indicated score. See the new table below for the parameters of the new problem.  "
   ]
  },
  {
   "cell_type": "markdown",
   "id": "cec7c47c",
   "metadata": {},
   "source": [
    "![SuitUsir Production Parameters](images/suitUsirExpanded.png)"
   ]
  },
  {
   "cell_type": "markdown",
   "id": "9cf5a030",
   "metadata": {},
   "source": [
    "## The Expanded Model"
   ]
  },
  {
   "cell_type": "markdown",
   "id": "39e1d963",
   "metadata": {},
   "source": [
    "First, we need to make sure that we are able to decide how many of each suit we produce at each facility. This means that we now need a decision variable for each suit type at each facility. We start the Mosel model by declaring these variables:"
   ]
  },
  {
   "cell_type": "code",
   "execution_count": null,
   "id": "2d4a72f3",
   "metadata": {},
   "outputs": [],
   "source": [
    "model \"SuitUsir\"\n",
    "    uses \"mmxprs\"\n",
    "    declarations\n",
    "        x_woollen_donegal: mpvar\n",
    "        x_linen_donegal: mpvar\n",
    "        x_woollen_belfast: mpvar\n",
    "        x_linen_belfast: mpvar\n",
    "        x_woollen_dublin: mpvar\n",
    "        x_linen_dublin: mpvar\n",
    "    end-declarations\n",
    "end-model"
   ]
  },
  {
   "cell_type": "markdown",
   "id": "78718262",
   "metadata": {},
   "source": [
    "As we said, we wish for these values to be integral, so we must declare that."
   ]
  },
  {
   "cell_type": "code",
   "execution_count": null,
   "id": "e171bf8b",
   "metadata": {},
   "outputs": [],
   "source": [
    "model \"SuitUsir\"\n",
    "    uses \"mmxprs\"\n",
    "    declarations\n",
    "        x_woollen_donegal: mpvar\n",
    "        x_linen_donegal: mpvar\n",
    "        x_woollen_belfast: mpvar\n",
    "        x_linen_belfast: mpvar\n",
    "        x_woollen_dublin: mpvar\n",
    "        x_linen_dublin: mpvar\n",
    "    end-declarations\n",
    "    x_woollen_donegal is_integer\n",
    "    x_linen_donegal is_integer\n",
    "    x_woollen_belfast is_integer\n",
    "    x_linen_belfast is_integer\n",
    "    x_woollen_dublin is_integer\n",
    "    x_linen_dublin is_integer\n",
    "end-model"
   ]
  },
  {
   "cell_type": "markdown",
   "id": "b572d493",
   "metadata": {},
   "source": [
    "Following that, we will define the new profit objective. Since the prices depend not just on the type of suit but also where it is made, we need to have a term in the objective function to reflect that."
   ]
  },
  {
   "cell_type": "code",
   "execution_count": null,
   "id": "5878f51e",
   "metadata": {},
   "outputs": [],
   "source": [
    "model \"SuitUsir\"\n",
    "    uses \"mmxprs\"\n",
    "    declarations\n",
    "        x_woollen_donegal: mpvar\n",
    "        x_linen_donegal: mpvar\n",
    "        x_woollen_belfast: mpvar\n",
    "        x_linen_belfast: mpvar\n",
    "        x_woollen_dublin: mpvar\n",
    "        x_linen_dublin: mpvar\n",
    "    end-declarations\n",
    "    x_woollen_donegal is_integer\n",
    "    x_linen_donegal is_integer\n",
    "    x_woollen_belfast is_integer\n",
    "    x_linen_belfast is_integer\n",
    "    x_woollen_dublin is_integer\n",
    "    x_linen_dublin is_integer\n",
    "    profit := (8 * x_woollen_donegal) + (3 * x_linen_donegal) + (4 * x_woollen_belfast) + (6 * x_linen_belfast) + (5 * x_woollen_dublin) + (7 * x_linen_dublin)\n",
    "end-model"
   ]
  },
  {
   "cell_type": "markdown",
   "id": "0b7cc883",
   "metadata": {},
   "source": [
    "We also need to update the constraints to reflect the fact that the industrial capacities are independent of each other."
   ]
  },
  {
   "cell_type": "code",
   "execution_count": null,
   "id": "836b4237",
   "metadata": {},
   "outputs": [],
   "source": [
    "model \"SuitUsir\"\n",
    "    uses \"mmxprs\"\n",
    "    declarations\n",
    "        x_woollen_donegal: mpvar\n",
    "        x_linen_donegal: mpvar\n",
    "        x_woollen_belfast: mpvar\n",
    "        x_linen_belfast: mpvar\n",
    "        x_woollen_dublin: mpvar\n",
    "        x_linen_dublin: mpvar\n",
    "    end-declarations\n",
    "    x_woollen_donegal is_integer\n",
    "    x_linen_donegal is_integer\n",
    "    x_woollen_belfast is_integer\n",
    "    x_linen_belfast is_integer\n",
    "    x_woollen_dublin is_integer\n",
    "    x_linen_dublin is_integer\n",
    "    profit := (8 * x_woollen_donegal) + (3 * x_linen_donegal) + (4 * x_woollen_belfast) + (6 * x_linen_belfast) + (5 * x_woollen_dublin) + (7 * x_linen_dublin)\n",
    "    donegal := 2 * x_woollen_donegal +  x_linen_donegal <= 4\n",
    "    belfast := x_woollen_belfast + 2 * x_linen_belfast <= 12\n",
    "    dublin := 3 * x_woollen_dublin + 2 * x_linen_dublin <= 18\n",
    "end-model"
   ]
  },
  {
   "cell_type": "markdown",
   "id": "523bd571",
   "metadata": {},
   "source": [
    "We also need to ensure that the risk does not exceed the values we allow for."
   ]
  },
  {
   "cell_type": "code",
   "execution_count": null,
   "id": "ab24ef4b",
   "metadata": {},
   "outputs": [],
   "source": [
    "model \"SuitUsir\"\n",
    "    uses \"mmxprs\"\n",
    "    declarations\n",
    "        x_woollen_donegal: mpvar\n",
    "        x_linen_donegal: mpvar\n",
    "        x_woollen_belfast: mpvar\n",
    "        x_linen_belfast: mpvar\n",
    "        x_woollen_dublin: mpvar\n",
    "        x_linen_dublin: mpvar\n",
    "    end-declarations\n",
    "    x_woollen_donegal is_integer\n",
    "    x_linen_donegal is_integer\n",
    "    x_woollen_belfast is_integer\n",
    "    x_linen_belfast is_integer\n",
    "    x_woollen_dublin is_integer\n",
    "    x_linen_dublin is_integer\n",
    "    profit := (8 * x_woollen_donegal) + (3 * x_linen_donegal) + (4 * x_woollen_belfast) + (6 * x_linen_belfast) + (5 * x_woollen_dublin) + (7 * x_linen_dublin)\n",
    "    donegal := 2 * x_woollen_donegal +  x_linen_donegal <= 4\n",
    "    belfast := x_woollen_belfast + 2 * x_linen_belfast <= 12\n",
    "    dublin := 3 * x_woollen_dublin + 2 * x_linen_dublin <= 18\n",
    "    risk := (0.5 * x_woollen_donegal) + (0.4 * x_linen_donegal) + (0.3 * x_woollen_belfast) + (0.1 * x_linen_belfast) + (0.3 * x_woollen_dublin) + (0.1 * x_linen_dublin) <= 2\n",
    "end-model"
   ]
  },
  {
   "cell_type": "markdown",
   "id": "ce018a7f",
   "metadata": {},
   "source": [
    "Lastly, we solve the problem and inspect the solution."
   ]
  },
  {
   "cell_type": "code",
   "execution_count": null,
   "id": "cea396da",
   "metadata": {},
   "outputs": [],
   "source": [
    "model \"SuitUsir\"\n",
    "    uses \"mmxprs\"\n",
    "    declarations\n",
    "        x_woollen_donegal: mpvar\n",
    "        x_linen_donegal: mpvar\n",
    "        x_woollen_belfast: mpvar\n",
    "        x_linen_belfast: mpvar\n",
    "        x_woollen_dublin: mpvar\n",
    "        x_linen_dublin: mpvar\n",
    "    end-declarations\n",
    "    x_woollen_donegal is_integer\n",
    "    x_linen_donegal is_integer\n",
    "    x_woollen_belfast is_integer\n",
    "    x_linen_belfast is_integer\n",
    "    x_woollen_dublin is_integer\n",
    "    x_linen_dublin is_integer\n",
    "    profit := (8 * x_woollen_donegal) + (3 * x_linen_donegal) + (4 * x_woollen_belfast) + (6 * x_linen_belfast) + (5 * x_woollen_dublin) + (7 * x_linen_dublin)\n",
    "    donegal := 2 * x_woollen_donegal +  x_linen_donegal <= 4\n",
    "    belfast := x_woollen_belfast + 2 * x_linen_belfast <= 12\n",
    "    dublin := 3 * x_woollen_dublin + 2 * x_linen_dublin <= 18\n",
    "    risk := (0.5 * x_woollen_donegal) + (0.4 * x_linen_donegal) + (0.3 * x_woollen_belfast) + (0.1 * x_linen_belfast) + (0.3 * x_woollen_dublin) + (0.1 * x_linen_dublin) <= 2\n",
    "    maximize(profit)\n",
    "    writeln(\"Number of woollen suits to make in Donegal : \", getsol(x_woollen_donegal))\n",
    "    writeln(\"Number of linen suits to make in Donegal : \", getsol(x_linen_donegal))\n",
    "    writeln(\"Number of woollen suits to make in Belfast : \", getsol(x_woollen_belfast))\n",
    "    writeln(\"Number of linen suits to make in Belfast : \", getsol(x_linen_belfast))\n",
    "    writeln(\"Number of woollen suits to make in Dublin : \", getsol(x_woollen_dublin))\n",
    "    writeln(\"Number of linen suits to make in Dublin : \", getsol(x_linen_dublin))\n",
    "    writeln(\"Number of linen suits to make: \", getsol(x_linen_dublin))\n",
    "    writeln(\"Profit attained: \", getobjval)\n",
    "end-model"
   ]
  }
 ],
 "metadata": {
  "kernelspec": {
   "display_name": "Python 3 (ipykernel)",
   "language": "python",
   "name": "python3"
  },
  "language_info": {
   "codemirror_mode": {
    "name": "ipython",
    "version": 3
   },
   "file_extension": ".py",
   "mimetype": "text/x-python",
   "name": "python",
   "nbconvert_exporter": "python",
   "pygments_lexer": "ipython3",
   "version": "3.8.10"
  }
 },
 "nbformat": 4,
 "nbformat_minor": 5
}
