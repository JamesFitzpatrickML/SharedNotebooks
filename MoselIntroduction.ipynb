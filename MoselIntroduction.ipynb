{
 "cells": [
  {
   "cell_type": "markdown",
   "id": "30e43082",
   "metadata": {},
   "source": [
    "# Getting started with the basics of Mosel"
   ]
  },
  {
   "cell_type": "markdown",
   "id": "06ca10f5",
   "metadata": {},
   "source": [
    "Later on we will see how we can use Mosel to write down and solve optimisation problems (in particular linear, integer linear and mixed-integer linear programmes). Before we can get started with that, we need to familiarise ourselves with some of the most basic elements of Mosel: declaring and initialising constants and variables, working with arrays, performing logical operations, executing loops and more. We will do some of these here.\n",
    "\n",
    "First we will look at the basics of the Mosel model format. Let's look at an example."
   ]
  },
  {
   "cell_type": "code",
   "execution_count": null,
   "id": "d7bc77cd",
   "metadata": {},
   "outputs": [],
   "source": [
    "model HelloWorld\n",
    "  uses \"mmxprs\"\n",
    "  declarations\n",
    "    helloWorld = \"Hello, world!\"\n",
    "  end-declarations\n",
    "end-model"
   ]
  },
  {
   "cell_type": "markdown",
   "id": "e2609445",
   "metadata": {},
   "source": [
    "## Understanding the structure of a Mosel model"
   ]
  },
  {
   "cell_type": "markdown",
   "id": "73c3beab",
   "metadata": {},
   "source": [
    "The first part of the Mosel model is where we set options and determine any packages that we may use. Thankfully we will basically never need to worry about this, and if we do, the changes will be minor. In this case, we have called the model \"HelloWorld\"."
   ]
  },
  {
   "cell_type": "code",
   "execution_count": null,
   "id": "31293acf",
   "metadata": {},
   "outputs": [],
   "source": [
    "model ModelName\n",
    "  uses \"mmxprs\""
   ]
  },
  {
   "cell_type": "markdown",
   "id": "cd88fbf0",
   "metadata": {},
   "source": [
    "Next we have the declarations. This is where we will introduce our constants and our variables. We make the declarations section obvious by stating where it starts and where it ends. In this case, we define a single variable (a string), called _helloWorld_. Here I have used camel-casing to make sure we don't have any clashes. Basically this means that at the start of the name we give the string, we begin with a lower case letter for the initial letter of the first word and an uppercase initial letter for each word in the name thereafter. Another example might be:"
   ]
  },
  {
   "cell_type": "code",
   "execution_count": null,
   "id": "7a804570",
   "metadata": {},
   "outputs": [],
   "source": [
    "  declarations\n",
    "    thisNameIsInCamelCase = \"Camel, Case!\"\n",
    "  end-declarations"
   ]
  },
  {
   "cell_type": "markdown",
   "id": "eeb7154f",
   "metadata": {},
   "source": [
    "After the declarations is where the meat of our optimisation problems will go. After we have declared our constants and variables, we might like to initialise them with some value. That is, we have said, for example, that some variable exists, and it might be useful for us to define what the value of that variable is before we start our model. Indeed, we may use this setion to define data underlying our problem. We will worry about that later."
   ]
  },
  {
   "cell_type": "markdown",
   "id": "2ca4473a",
   "metadata": {},
   "source": [
    "## Running and Printing"
   ]
  },
  {
   "cell_type": "markdown",
   "id": "8ead963d",
   "metadata": {},
   "source": [
    "First we will check what happens when we execute our model."
   ]
  },
  {
   "cell_type": "code",
   "execution_count": null,
   "id": "5a0fbce8",
   "metadata": {},
   "outputs": [],
   "source": [
    "FICO Xpress Mosel 64-bit v6.0.1, FICO Xpress v8.14.2\n",
    "(c) Copyright Fair Isaac Corporation 2001-2022. All rights reserved\n",
    "Compiling model.mos to out\\model.bim with -g\n",
    "Running model\n",
    "\n",
    "Process exited with code: 0"
   ]
  },
  {
   "cell_type": "markdown",
   "id": "e3d9fe88",
   "metadata": {},
   "source": [
    "Here our model runs with an execution code of zero. This means there were no errors and the model completed running successfully. However, nothing interesting happened. In many cases we might be interested in printing some kind of output to the screen. This might be to show the results of solving our problem, or it could be for the purposes of debugging. In either case, this will be very useful for us to be able to do. Let's see how to print a string:"
   ]
  },
  {
   "cell_type": "code",
   "execution_count": null,
   "id": "36939376",
   "metadata": {},
   "outputs": [],
   "source": [
    "model HelloWorld\n",
    "  uses \"mmxprs\"\n",
    "  declarations\n",
    "    helloWorld = \"Hello, world!\"\n",
    "  end-declarations\n",
    "  writeln(\"Hello!\")\n",
    "end-model"
   ]
  },
  {
   "cell_type": "markdown",
   "id": "b14b6289",
   "metadata": {},
   "source": [
    "We can see this time that there is a new line at line seven. Here we are telling Mosel to write the string \"Hello\" to the standard output. If we look at the output, we should see that it has worked."
   ]
  },
  {
   "cell_type": "code",
   "execution_count": null,
   "id": "9312d848",
   "metadata": {},
   "outputs": [],
   "source": [
    "FICO Xpress Mosel 64-bit v6.0.1, FICO Xpress v8.14.2\n",
    "(c) Copyright Fair Isaac Corporation 2001-2022. All rights reserved\n",
    "Compiling model.mos to out\\model.bim with -g\n",
    "Running model\n",
    "Hello!\n",
    "\n",
    "Process exited with code: 0"
   ]
  },
  {
   "cell_type": "markdown",
   "id": "ec9a7248",
   "metadata": {},
   "source": [
    "But we defined a string ourselves, called _helloWorld_, if we want to print that, we need merely write the model as:"
   ]
  },
  {
   "cell_type": "code",
   "execution_count": null,
   "id": "111552b3",
   "metadata": {},
   "outputs": [],
   "source": [
    "model HelloWorld\n",
    "  uses \"mmxprs\"\n",
    "  declarations\n",
    "    helloWorld = \"Hello, world!\"\n",
    "  end-declarations\n",
    "  writeln(helloWorld)\n",
    "end-model"
   ]
  },
  {
   "cell_type": "markdown",
   "id": "fed824f2",
   "metadata": {},
   "source": [
    "We will see that the new output matches the string we declared:"
   ]
  },
  {
   "cell_type": "code",
   "execution_count": null,
   "id": "4e73aed3",
   "metadata": {},
   "outputs": [],
   "source": [
    "FICO Xpress Mosel 64-bit v6.0.1, FICO Xpress v8.14.2\n",
    "(c) Copyright Fair Isaac Corporation 2001-2022. All rights reserved\n",
    "Compiling model.mos to out\\model.bim with -g\n",
    "Running model\n",
    "Hello, world!\n",
    "\n",
    "Process exited with code: 0"
   ]
  },
  {
   "cell_type": "markdown",
   "id": "c484a696",
   "metadata": {},
   "source": [
    "## Declaring other types of constants"
   ]
  },
  {
   "cell_type": "markdown",
   "id": "3dd4a9e0",
   "metadata": {},
   "source": [
    "We can now write the basic \"Hello, World!\" model. If we want to perform more complex tasks, we will need to be able to work with scalar constants (integers and floating point numbers), index arrays, and more. Let's look at some basic examples:"
   ]
  },
  {
   "cell_type": "code",
   "execution_count": null,
   "id": "1bd915eb",
   "metadata": {},
   "outputs": [],
   "source": [
    "model PiApproximation\n",
    "  uses \"mmxprs\"\n",
    "  declarations\n",
    "    badPiApproximation = 3\n",
    "    betterPiApproximation = 3.14\n",
    "  end-declarations\n",
    "  writeln(\"Bad approximation: \", badPiApproximation)\n",
    "  writeln(\"Better approximation: \", betterPiApproximation)\n",
    "end-model"
   ]
  },
  {
   "cell_type": "markdown",
   "id": "62c821e4",
   "metadata": {},
   "source": [
    "Notice here that we have declared two constants, badPiApproximation (an integer, implicitly) and betterPiApproximation (a floating point, implicitly). We then go on to print each one to the standard output, but now we have an additional string in the input of the print function to tell us what each output is."
   ]
  },
  {
   "cell_type": "code",
   "execution_count": null,
   "id": "99bb22b7",
   "metadata": {},
   "outputs": [],
   "source": [
    "FICO Xpress Mosel 64-bit v6.0.1, FICO Xpress v8.14.2\n",
    "(c) Copyright Fair Isaac Corporation 2001-2022. All rights reserved\n",
    "Compiling model.mos to out\\model.bim with -g\n",
    "Running model\n",
    "Bad approximation: 3\n",
    "Better approximation: 3.14\n",
    "\n",
    "Process exited with code: 0"
   ]
  },
  {
   "cell_type": "markdown",
   "id": "d91dd81b",
   "metadata": {},
   "source": [
    "We can do basic arithmetic in the _writeln_ function:"
   ]
  },
  {
   "cell_type": "code",
   "execution_count": null,
   "id": "414704da",
   "metadata": {},
   "outputs": [],
   "source": [
    "model PiApproximation\n",
    "  uses \"mmxprs\"\n",
    "  declarations\n",
    "    badPiApproximation = 3\n",
    "    betterPiApproximation = 3.14\n",
    "  end-declarations\n",
    "  writeln(\"Sum: \", badPiApproximation + betterPiApproximation)\n",
    "  writeln(\"Difference: \", badPiApproximation - betterPiApproximation)\n",
    "  writeln(\"Product: \", betterPiApproximation * betterPiApproximation)\n",
    "  writeln(\"Ratio: \", badPiApproximation / betterPiApproximation)\n",
    "end-model"
   ]
  },
  {
   "cell_type": "code",
   "execution_count": null,
   "id": "c642ef5a",
   "metadata": {},
   "outputs": [],
   "source": [
    "FICO Xpress Mosel 64-bit v6.0.1, FICO Xpress v8.14.2\n",
    "(c) Copyright Fair Isaac Corporation 2001-2022. All rights reserved\n",
    "Compiling model.mos to out\\model.bim with -g\n",
    "Running model\n",
    "Sum: 6.14\n",
    "Difference: -0.14\n",
    "Product: 9.8596\n",
    "Ratio: 0.9554140127\n",
    "\n",
    "Process exited with code: 0"
   ]
  },
  {
   "cell_type": "markdown",
   "id": "e3ed84d4",
   "metadata": {},
   "source": [
    "Notice that in each case the output is a floating point number, even though we used both an integer and a floating point number. This is an example of type casting, where the compiler thought we would want to treat both constants as floating point numbers. Usually it will understand what we are trying to do, but be aware that it may sometimes cause issues if we are not careful."
   ]
  },
  {
   "cell_type": "markdown",
   "id": "ca70e315",
   "metadata": {},
   "source": [
    "We may also declare additional constants in terms of others:"
   ]
  },
  {
   "cell_type": "code",
   "execution_count": null,
   "id": "3e88c953",
   "metadata": {},
   "outputs": [],
   "source": [
    "model PiApproximation\n",
    "  uses \"mmxprs\"\n",
    "  declarations\n",
    "    badPiApproximation = 3\n",
    "    betterPiApproximation = 3.14\n",
    "    exponentCombination = badPiApproximation ^ betterPiApproximation\n",
    "  end-declarations\n",
    "  writeln(\"Exponent: \", exponentCombination)\n",
    "end-model"
   ]
  },
  {
   "cell_type": "code",
   "execution_count": null,
   "id": "e93de057",
   "metadata": {},
   "outputs": [],
   "source": [
    "FICO Xpress Mosel 64-bit v6.0.1, FICO Xpress v8.14.2\n",
    "(c) Copyright Fair Isaac Corporation 2001-2022. All rights reserved\n",
    "Compiling model.mos to out\\model.bim with -g\n",
    "Running model\n",
    "Exponent: 31.48913565\n",
    "\n",
    "Process exited with code: 0"
   ]
  },
  {
   "cell_type": "markdown",
   "id": "1a032ffb",
   "metadata": {},
   "source": [
    "## Declaring constants and then initialising them"
   ]
  },
  {
   "cell_type": "markdown",
   "id": "0a05ad17",
   "metadata": {},
   "source": [
    "We need to deal with how to declare and initialise a variety of constant types, that we might use them to write down and solve our problems. These include integers, floating points, booleanas, and arrays of them.\n",
    "\n",
    "First we declare our constants (we tell Mosel that they exist and what form they take). After that, we will initialise them with some values."
   ]
  },
  {
   "cell_type": "code",
   "execution_count": null,
   "id": "f7accdc7",
   "metadata": {},
   "outputs": [],
   "source": [
    "model PiApproximation\n",
    "  uses \"mmxprs\"\n",
    "  declarations\n",
    "    booleanConstant: boolean\n",
    "    integerConstant: integer\n",
    "    floatingPointConstant: real\n",
    "    stringConstant: string\n",
    "  end-declarations\n",
    "  writeln(\"Boolean default value: \", booleanConstant)\n",
    "  writeln(\"Integer default value: \", integerVariable)\n",
    "  writeln(\"Floating point default value: \", floatingPointConstant)\n",
    "  writeln(\"String default value: \", stringConstant)\n",
    "end-model"
   ]
  },
  {
   "cell_type": "code",
   "execution_count": null,
   "id": "1cac2010",
   "metadata": {},
   "outputs": [],
   "source": [
    "FICO Xpress Mosel 64-bit v6.0.1, FICO Xpress v8.14.2\n",
    "(c) Copyright Fair Isaac Corporation 2001-2022. All rights reserved\n",
    "Compiling model.mos to out\\model.bim with -g\n",
    "Running model\n",
    "Boolean default value: false\n",
    "Integer default value: 0\n",
    "Floating point default value: 0\n",
    "String default value:\n",
    "\n",
    "Process exited with code: 0"
   ]
  },
  {
   "cell_type": "markdown",
   "id": "187c769b",
   "metadata": {},
   "source": [
    "We can see here that we have defined four different types of constant explicitly defined. For the boolean constant, the default value is \"false\". For the integer and floating point variable, it is zero. For the string, it is an empty string. If we want to imbue them with a specific value, we must do so after the declarations have been finished.\n",
    "\n",
    "Let's try it:"
   ]
  },
  {
   "cell_type": "code",
   "execution_count": null,
   "id": "4b30a974",
   "metadata": {},
   "outputs": [],
   "source": [
    "model PiApproximation\n",
    "  uses \"mmxprs\"\n",
    "  declarations\n",
    "    booleanConstant: boolean\n",
    "    integerConstant: integer\n",
    "    floatingPointConstant: real\n",
    "    stringConstant: string\n",
    "  end-declarations\n",
    "  booleanConstant := true\n",
    "  integerConstant := 7\n",
    "  floatingPointConstant := 17.4\n",
    "  stringConstant := \"this could change!\"\n",
    "  writeln(\"Boolean default value: \", booleanConstant)\n",
    "  writeln(\"Integer default value: \", integerConstant)\n",
    "  writeln(\"Floating point default value: \", floatingPointConstant)\n",
    "  writeln(\"String default value: \", stringConstant)\n",
    "end-model"
   ]
  },
  {
   "cell_type": "code",
   "execution_count": null,
   "id": "2c6ff63d",
   "metadata": {},
   "outputs": [],
   "source": [
    "FICO Xpress Mosel 64-bit v6.0.1, FICO Xpress v8.14.2\n",
    "(c) Copyright Fair Isaac Corporation 2001-2022. All rights reserved\n",
    "Compiling model.mos to out\\model.bim with -g\n",
    "Running model\n",
    "Boolean default value: true\n",
    "Integer default value: 7\n",
    "Floating point default value: 17.4\n",
    "String default value: this could change!    \n",
    "\n",
    "Process exited with code: 0"
   ]
  },
  {
   "cell_type": "markdown",
   "id": "4fdb373b",
   "metadata": {},
   "source": [
    "Now we see that the constants have different values, the ones we initialised them with. This will be necessary for many of the heuristics and algorithms that we try to implement."
   ]
  },
  {
   "cell_type": "markdown",
   "id": "3f5ec612",
   "metadata": {},
   "source": [
    "## Declaring arrays of constants"
   ]
  },
  {
   "cell_type": "markdown",
   "id": "fe82fd7e",
   "metadata": {},
   "source": [
    "Declaring arrays of constants is a little trickier, but necessary for us to solve problems of any real complexity and interest. To declare arrays we must be prepared to declare their size, either directly or by means of a pre-defined range. For example, we can define a range as follows:"
   ]
  },
  {
   "cell_type": "code",
   "execution_count": null,
   "id": "2ad180c5",
   "metadata": {},
   "outputs": [],
   "source": [
    "model FunWithArrays\n",
    "  uses \"mmxprs\"\n",
    "  declarations\n",
    "    testRangeA = 1..3\n",
    "  end-declarations\n",
    "    writeln(testRangeA)\n",
    "end-model"
   ]
  },
  {
   "cell_type": "markdown",
   "id": "c08e356b",
   "metadata": {},
   "source": [
    "This range will specify the indices of the array that we will declare. Here we say that the indices start at one and increment at a rate of one unit until (and including) index three. Printing this range doesn't help us much:"
   ]
  },
  {
   "cell_type": "code",
   "execution_count": null,
   "id": "f815a889",
   "metadata": {},
   "outputs": [],
   "source": [
    "FICO Xpress Mosel 64-bit v6.0.1, FICO Xpress v8.14.2\n",
    "(c) Copyright Fair Isaac Corporation 2001-2022. All rights reserved\n",
    "Compiling model.mos to out\\model.bim with -g\n",
    "Running model\n",
    "1..3\n",
    "\n",
    "Process exited with code: 0"
   ]
  },
  {
   "cell_type": "markdown",
   "id": "1b8b4d80",
   "metadata": {},
   "source": [
    "Let's try to declare an array of constants and then see what that looks like instead:"
   ]
  },
  {
   "cell_type": "code",
   "execution_count": null,
   "id": "614ec00b",
   "metadata": {},
   "outputs": [],
   "source": [
    "model FunWithArrays\n",
    "  uses \"mmxprs\"\n",
    "  declarations\n",
    "    testRangeA = 1..3\n",
    "    testArray: array(testRangeA) of boolean\n",
    "  end-declarations\n",
    "    writeln(testArray)\n",
    "end-model"
   ]
  },
  {
   "cell_type": "code",
   "execution_count": null,
   "id": "0ec92b53",
   "metadata": {},
   "outputs": [],
   "source": [
    "FICO Xpress Mosel 64-bit v6.0.1, FICO Xpress v8.14.2\n",
    "(c) Copyright Fair Isaac Corporation 2001-2022. All rights reserved\n",
    "Compiling model.mos to out\\model.bim with -g\n",
    "Running model\n",
    "[false,false,false]        \n",
    "\n",
    "Process exited with code: 0"
   ]
  },
  {
   "cell_type": "markdown",
   "id": "3f223c04",
   "metadata": {},
   "source": [
    "What we have done here is to create first a range. This range tells us that we will have three elements and that we will index them as 1, 2, 3. If we declare an array of constants like we do using the syntax in line six, we can see that the printed array gives us an array of three booleans. These booleans have the default values from before. If we use multiple dimensions, we can have multi-dimensional arrays. Let's try it:"
   ]
  },
  {
   "cell_type": "code",
   "execution_count": null,
   "id": "1655da84",
   "metadata": {},
   "outputs": [],
   "source": [
    "model FunWithArrays\n",
    "  uses \"mmxprs\"\n",
    "  declarations\n",
    "    testRangeA = 1..3\n",
    "    testRangeB = 1..5\n",
    "    testArray: array(testRangeA, testRangeB) of boolean\n",
    "  end-declarations\n",
    "    writeln(testArray)\n",
    "    writeln(testArray(1, 1))\n",
    "    writeln(testArray(3, 5))\n",
    "end-model"
   ]
  },
  {
   "cell_type": "code",
   "execution_count": null,
   "id": "5825ca0b",
   "metadata": {},
   "outputs": [],
   "source": [
    "FICO Xpress Mosel 64-bit v6.0.1, FICO Xpress v8.14.2\n",
    "(c) Copyright Fair Isaac Corporation 2001-2022. All rights reserved\n",
    "Compiling model.mos to out\\model.bim with -g\n",
    "Running model\n",
    "[false,false,false,false,false,false,false,false,false,false,false,false,false,false,false]\n",
    "false\n",
    "false\n",
    "\n",
    "Process exited with code: 0"
   ]
  },
  {
   "cell_type": "markdown",
   "id": "ddf7164c",
   "metadata": {},
   "source": [
    "Here we can see that we have declared two ranges, one for each dimension. If we use these two ranges, we will have a three-by-five matrix of booleans for a total of fifteen elements. If we print it though, we don't necessarily see this two-dimensional structure, just a flat list. However, we can index diretly into the array and print specific elements. Unfortunately they are all the same, but we can play with this shortly.\n",
    "\n",
    "Let's try indexing an element that shuldn't exist (outside the range) and see what we get:"
   ]
  },
  {
   "cell_type": "code",
   "execution_count": null,
   "id": "a7474eac",
   "metadata": {},
   "outputs": [],
   "source": [
    "model FunWithArrays\n",
    "  uses \"mmxprs\"\n",
    "  declarations\n",
    "    testRangeA = 1..3\n",
    "    testRangeB = 1..5\n",
    "    testArray: array(testRangeA, testRangeB) of boolean\n",
    "  end-declarations\n",
    "    writeln(testArray(3, 6))\n",
    "end-model"
   ]
  },
  {
   "cell_type": "code",
   "execution_count": null,
   "id": "2c043a30",
   "metadata": {},
   "outputs": [],
   "source": [
    "FICO Xpress Mosel 64-bit v6.0.1, FICO Xpress v8.14.2\n",
    "(c) Copyright Fair Isaac Corporation 2001-2022. All rights reserved\n",
    "Compiling model.mos to out\\model.bim with -g\n",
    "Running model\n",
    "Mosel: E-1002: An index is out of range.\n",
    "Mosel: Error located at line 9 of `model.mos'.\n",
    "\n",
    "Process exited with code: 11"
   ]
  },
  {
   "cell_type": "markdown",
   "id": "73c819b2",
   "metadata": {},
   "source": [
    "We get an error because no such element exists.\n",
    "\n",
    "Let's put (more) interesting stuff in these arrays manually."
   ]
  },
  {
   "cell_type": "code",
   "execution_count": null,
   "id": "0cce770d",
   "metadata": {},
   "outputs": [],
   "source": [
    "model FunWithArrays\n",
    "  uses \"mmxprs\"\n",
    "  declarations\n",
    "    testRangeA = 1..3\n",
    "    testRangeB = 1..3\n",
    "    testArray: array(testRangeA, testRangeB) of real\n",
    "  end-declarations\n",
    "    testArray :: [1.0, 2.0, 3.0,\n",
    "                  4.0, 5.0, 6.0,\n",
    "                  7.0, 8.0, 9.0]\n",
    "    writeln(\"First diagonal element: \", testArray(1,1))\n",
    "    writeln(\"Second diagonal element: \", testArray(2,2))\n",
    "    writeln(\"Third diagonal element: \", testArray(3,3))\n",
    "end-model"
   ]
  },
  {
   "cell_type": "code",
   "execution_count": null,
   "id": "35970ef6",
   "metadata": {},
   "outputs": [],
   "source": [
    "FICO Xpress Mosel 64-bit v6.0.1, FICO Xpress v8.14.2\n",
    "(c) Copyright Fair Isaac Corporation 2001-2022. All rights reserved\n",
    "Compiling model.mos to out\\model.bim with -g\n",
    "Running model\n",
    "First diagonal element: 1\n",
    "Second diagonal element: 5\n",
    "Third diagonal element: 9\n",
    "\n",
    "Process exited with code: 0"
   ]
  },
  {
   "cell_type": "markdown",
   "id": "ae23bfd4",
   "metadata": {},
   "source": [
    "Here we have declared the ranges, used them to define the size of an array that we have defined and then set the elements of the array with user-specified values. We must make sure, of course, that we initialise with an array of the correct shape.\n",
    "\n",
    "We can actually skip the step of creating ranges altogether, and declare an array as follows:"
   ]
  },
  {
   "cell_type": "code",
   "execution_count": null,
   "id": "44800aec",
   "metadata": {},
   "outputs": [],
   "source": [
    "model FunWithArrays\n",
    "  uses \"mmxprs\"\n",
    "  declarations\n",
    "    testArray: array(1..2, 1..4) of real\n",
    "  end-declarations\n",
    "    writeln(testArray)\n",
    "end-model"
   ]
  },
  {
   "cell_type": "code",
   "execution_count": null,
   "id": "0e37112a",
   "metadata": {},
   "outputs": [],
   "source": [
    "FICO Xpress Mosel 64-bit v6.0.1, FICO Xpress v8.14.2\n",
    "(c) Copyright Fair Isaac Corporation 2001-2022. All rights reserved\n",
    "Compiling model.mos to out\\model.bim with -g\n",
    "Running model\n",
    "[0,0,0,0,0,0,0,0]\n",
    "\n",
    "Process exited with code: 0"
   ]
  },
  {
   "cell_type": "markdown",
   "id": "b4b1744f",
   "metadata": {},
   "source": [
    "## Some functions"
   ]
  },
  {
   "cell_type": "markdown",
   "id": "9bcc4223",
   "metadata": {},
   "source": [
    "### Summing"
   ]
  },
  {
   "cell_type": "markdown",
   "id": "4ebc89f8",
   "metadata": {},
   "source": [
    "We will need to know how to perform some common operations with both constants and variables later on. We already saw how to do the basic operations, but sometimes we need more than that. Lets first try to sum over the elements of an array that we have defined:"
   ]
  },
  {
   "cell_type": "code",
   "execution_count": null,
   "id": "6a0b8342",
   "metadata": {},
   "outputs": [],
   "source": [
    "model FunWithArrays\n",
    "  uses \"mmxprs\"\n",
    "  declarations\n",
    "    testRangeA = 1..3\n",
    "    testArray: array(testRangeA) of real\n",
    "    summedStuff: real\n",
    "  end-declarations\n",
    "    testArray :: [1.0, 2.0, 3.0]\n",
    "    summedStuff := sum(i in testRangeA) testArray(i)\n",
    "    writeln(\"Sum of elements: \", summedStuff)\n",
    "end-model"
   ]
  },
  {
   "cell_type": "code",
   "execution_count": null,
   "id": "f3d664c6",
   "metadata": {},
   "outputs": [],
   "source": [
    "FICO Xpress Mosel 64-bit v6.0.1, FICO Xpress v8.14.2\n",
    "(c) Copyright Fair Isaac Corporation 2001-2022. All rights reserved\n",
    "Compiling model.mos to out\\model.bim with -g\n",
    "Running model\n",
    "Sum of elements: 6\n",
    "\n",
    "Process exited with code: 0"
   ]
  },
  {
   "cell_type": "markdown",
   "id": "c32555ee",
   "metadata": {},
   "source": [
    "So we can see that to sum, we first need to specify the elements over which we sum. We do this by telling Mosel to sum over a certain set of indices and to sum the elements that have those indices in the given array. \n",
    "\n",
    "These indices need only be valid, we don't need to sum over all of them:"
   ]
  },
  {
   "cell_type": "code",
   "execution_count": null,
   "id": "fa2fe76c",
   "metadata": {},
   "outputs": [],
   "source": [
    "model FunWithArrays\n",
    "  uses \"mmxprs\"\n",
    "  declarations\n",
    "    testRangeA = 1..3\n",
    "    testRangeB = 1..2\n",
    "    testArray: array(testRangeA) of real\n",
    "    summedStuff: real\n",
    "  end-declarations\n",
    "    testArray :: [1.0, 2.0, 3.0]\n",
    "    summedStuff := sum(i in testRangeB) testArray(i)\n",
    "    writeln(\"Sum of elements: \", summedStuff)\n",
    "end-model"
   ]
  },
  {
   "cell_type": "code",
   "execution_count": null,
   "id": "28b85ee6",
   "metadata": {},
   "outputs": [],
   "source": [
    "FICO Xpress Mosel 64-bit v6.0.1, FICO Xpress v8.14.2\n",
    "(c) Copyright Fair Isaac Corporation 2001-2022. All rights reserved\n",
    "Compiling model.mos to out\\model.bim with -g\n",
    "Running model\n",
    "Sum of elements: 3\n",
    "\n",
    "Process exited with code: 0"
   ]
  },
  {
   "cell_type": "markdown",
   "id": "8e4bba24",
   "metadata": {},
   "source": [
    "Here we only summed over the elements of the array that have indices in the set specified as _testRangeB_. Summing over multiple dimensions follows similarly:"
   ]
  },
  {
   "cell_type": "code",
   "execution_count": null,
   "id": "7b54aa32",
   "metadata": {},
   "outputs": [],
   "source": [
    "model FunWithArrays\n",
    "  uses \"mmxprs\"\n",
    "  declarations\n",
    "    testRangeA = 1..3\n",
    "    testRangeB = 1..2\n",
    "    testArray: array(testRangeA, testRangeB) of real\n",
    "    summedStuff: real\n",
    "  end-declarations\n",
    "    testArray :: [1.0, 2.0,\n",
    "                  3.0, 4.0,\n",
    "                  5.0, 6.0]\n",
    "    summedStuff := sum(i in testRangeA, j in testRangeB) testArray(i, j)\n",
    "    writeln(\"Sum of elements: \", summedStuff)\n",
    "end-model"
   ]
  },
  {
   "cell_type": "code",
   "execution_count": null,
   "id": "6045256d",
   "metadata": {},
   "outputs": [],
   "source": [
    "FICO Xpress Mosel 64-bit v6.0.1, FICO Xpress v8.14.2\n",
    "(c) Copyright Fair Isaac Corporation 2001-2022. All rights reserved\n",
    "Compiling model.mos to out\\model.bim with -g\n",
    "Running model\n",
    "Sum of elements: 21\n",
    "\n",
    "Process exited with code: 0"
   ]
  },
  {
   "cell_type": "markdown",
   "id": "e6ebd331",
   "metadata": {},
   "source": [
    "All we did here was to tell Mosel that now we are summing over two dimensions and that we wish to sum over two dimensions in the array _testArray_. In particular, we tell to sum over the first two dimensions (there are only two) and then to sum with the given indices (which happen to be the complete set of indices of the array)."
   ]
  },
  {
   "cell_type": "markdown",
   "id": "8bc7bd6c",
   "metadata": {},
   "source": [
    "### Other functionalities"
   ]
  },
  {
   "cell_type": "code",
   "execution_count": null,
   "id": "0765c822",
   "metadata": {},
   "outputs": [],
   "source": [
    "model FunWithAbsolutes\n",
    "  uses \"mmxprs\"\n",
    "  declarations\n",
    "    testConstant: real\n",
    "    testAbsoluteConstant: real\n",
    "  end-declarations\n",
    "    testConstant := -3.4\n",
    "    testAbsoluteConstant := abs(testConstant)\n",
    "    writeln(\"Original constant value: \", testConstant)\n",
    "    writeln(\"Absolute value: \", testAbsoluteConstant)\n",
    "end-model"
   ]
  },
  {
   "cell_type": "code",
   "execution_count": null,
   "id": "114e3b08",
   "metadata": {},
   "outputs": [],
   "source": [
    "FICO Xpress Mosel 64-bit v6.0.1, FICO Xpress v8.14.2\n",
    "(c) Copyright Fair Isaac Corporation 2001-2022. All rights reserved\n",
    "Compiling model.mos to out\\model.bim with -g\n",
    "Running model\n",
    "Original constant value: -3.4\n",
    "Absolute value: 3.4\n",
    "\n",
    "Process exited with code: 0"
   ]
  },
  {
   "cell_type": "markdown",
   "id": "2a4ceee6",
   "metadata": {},
   "source": [
    "All the rest of your favourite functions are there."
   ]
  },
  {
   "cell_type": "code",
   "execution_count": null,
   "id": "5b667b23",
   "metadata": {},
   "outputs": [],
   "source": [
    "model FunWithArrays\n",
    "  uses \"mmxprs\"\n",
    "  declarations\n",
    "    testConstant: real\n",
    "    testAbsoluteConstant: real\n",
    "  end-declarations\n",
    "    testConstant := 3.4\n",
    "    writeln(\"Rounded value: \", round(testConstant))\n",
    "    writeln(\"Sine value: \", sin(testConstant))\n",
    "    writeln(\"Exponentiated value: \", exp(testConstant))\n",
    "    writeln(\"Rooted Value: \", sqrt(testConstant))\n",
    "end-model"
   ]
  },
  {
   "cell_type": "markdown",
   "id": "182adcdb",
   "metadata": {},
   "source": [
    "## Declaring variables"
   ]
  },
  {
   "cell_type": "markdown",
   "id": "fde788db",
   "metadata": {},
   "source": [
    "This is the last important foundational piece for getting started with Mosel. We will need to make variables at some point, if we want to do anything interesting. These are the objects that will change and that will represent our solutions. We will bind and restrict them with constraints (which we will cover next time) and we will define how we evaluate their collective worth with objective functions (as solutions!). For now, we will only look at how to instantiate them and next week we will look at using them to construct real problems."
   ]
  },
  {
   "cell_type": "code",
   "execution_count": null,
   "id": "cb45fd26",
   "metadata": {},
   "outputs": [],
   "source": [
    "model FunWithVariables\n",
    "  uses \"mmxprs\"\n",
    "  declarations\n",
    "    variableRange = 1..5\n",
    "    firstVariable: mpvar\n",
    "    arrayOfVariables: array(variableRange) of mpvar\n",
    "  end-declarations\n",
    "    writeln(\"First variable: \", firstVariable)\n",
    "    writeln(\"Array of variables: \", arrayOfVariables)\n",
    "end-model"
   ]
  },
  {
   "cell_type": "code",
   "execution_count": null,
   "id": "3f3d7937",
   "metadata": {},
   "outputs": [],
   "source": [
    "FICO Xpress Mosel 64-bit v6.0.1, FICO Xpress v8.14.2\n",
    "(c) Copyright Fair Isaac Corporation 2001-2022. All rights reserved\n",
    "Compiling model.mos to out\\model.bim with -g\n",
    "Running model\n",
    "First variable: 0x258b7c76850\n",
    "Array of variables: [0x258b7c76860,0x258b7c76870,0x258b7c76880,0x258b7c76890,0x258b7c768a0]\n",
    "\n",
    "Process exited with code: 0"
   ]
  },
  {
   "cell_type": "markdown",
   "id": "cd122984",
   "metadata": {},
   "source": [
    "When we print the variables, we see something funny: we see pointers to the variables, where they are stored in the memory. We don't need to worry about this now. Later on we will see what we need to do to see their values."
   ]
  }
 ],
 "metadata": {
  "kernelspec": {
   "display_name": "Python 3 (ipykernel)",
   "language": "python",
   "name": "python3"
  },
  "language_info": {
   "codemirror_mode": {
    "name": "ipython",
    "version": 3
   },
   "file_extension": ".py",
   "mimetype": "text/x-python",
   "name": "python",
   "nbconvert_exporter": "python",
   "pygments_lexer": "ipython3",
   "version": "3.8.10"
  }
 },
 "nbformat": 4,
 "nbformat_minor": 5
}
