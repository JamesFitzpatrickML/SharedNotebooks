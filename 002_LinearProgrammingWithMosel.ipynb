{
 "cells": [
  {
   "cell_type": "markdown",
   "id": "2035e665",
   "metadata": {},
   "source": [
    "## Some Basic Linear Programming Problems "
   ]
  },
  {
   "cell_type": "markdown",
   "id": "a9bef5f0",
   "metadata": {},
   "source": [
    "Recall that any optimisation problem is characterised by its variables, constraints on those variables and an objective function. The variables are the objects with which we represent a solution - the assigned values form a solution, the constraints define whether or not a given solution is _feasible_ and the objective function is a many-to-one mapping from the set of variables to a real-valued constant that ascribes a value to a solution.\n",
    "\n",
    "Linear programming problems are a special case in which all constraints and the objective function are linear combinations of the variables and the variables themselves are non-negative continuous-valued variables with finite upper bounds on their assigned values. In other words, a linear programme is an optimisation problem of the form:\n",
    "\n",
    "$$ \\text{minimise } \\sum_{i=1}^{n}c_{i}x_{i} \\quad \\quad \\text{subject to:}$$\n",
    "$$ \\sum_{i=1}^{n}a_{i,j}x_{i} = b_{j}, \\quad \\quad \\forall j \\in \\{1,...,m\\}$$\n",
    "$$x_{i} \\in [\\alpha_{i}, \\beta_{i}] \\quad \\quad \\forall i \\in \\{1,...,n\\}$$\n",
    "$$a_{i,j} \\in \\mathbb{R} \\quad \\quad \\forall i \\in \\{1,...,n\\}, j \\in \\{1,...,m\\}$$\n",
    "$$b_{j} \\in \\mathbb{R} \\quad \\quad \\{1,...,m\\}$$\n",
    "$$\\alpha_{i} \\geq 0 \\quad \\quad \\forall i \\in \\{1,...,n\\}$$\n",
    "$$\\beta_{i} < \\infty \\quad \\quad \\forall i \\in \\{1,...,n\\}$$\n",
    "\n",
    "Note that in the bounds $\\beta_{i}$ are genernally implied by the other constraints. If not, the feasible region is unbounded in at least one dimension. This may not be a problem from the point-of-view of finding an optimal solution, but unbounded problems can be troublesome. In reality all variables we model will have effective upper bounds."
   ]
  },
  {
   "cell_type": "markdown",
   "id": "5b35758e",
   "metadata": {},
   "source": [
    "Here we will start off with written descriptions of a problem and convert that problem to a linear programme that we can then solve. We will do this for a few examples that can be found on Brightspace."
   ]
  },
  {
   "cell_type": "markdown",
   "id": "95d0b36b",
   "metadata": {},
   "source": [
    "## The XYZ Problem"
   ]
  },
  {
   "cell_type": "markdown",
   "id": "d0af13eb",
   "metadata": {},
   "source": [
    "A company wishes to produce three different products, product X, product Z and product Y. Each unit produced of product X, Y and Z, respectively, yield a net profit of 10, 7 and 5 euros. However, we have only two machines with which to produce these three products, Machine A and Machine B. Machine A is specialised for intricate work, and a skilled operator can make a unit of Product X, Y and Z in 0.08, 0.11 and 0.18 hours respectively with it. Machine B is older and is more effective for less intricate work. Making units of products X, Y and Z with machine B takes 0.19, 0.07 and 0.15 hours, respectively, with Machine B. For each machine, we may only allow 150 hours of labour per month. What is the maximum profit we make can make under these conditions, and how much of each product do we produce?"
   ]
  },
  {
   "cell_type": "markdown",
   "id": "da7b1ad7",
   "metadata": {},
   "source": [
    "First we need to write down a linear programming formulation for this problem. Once we have done this, we can then solve the problem with Mosel. We assume for now that we can make fractional products (the variables are continuous-valued and not integer-valued). We can always round down the values we achieve at the end."
   ]
  },
  {
   "cell_type": "markdown",
   "id": "7a64e964",
   "metadata": {},
   "source": [
    "First, we need a variable for each product, to determine how many to make of each. We let our variables be:\n",
    "\n",
    "$$ x, y, z \\in \\mathbb{R}_{0}^{+}$$.\n",
    "\n",
    "Next, we write an objective function as the linear combination of the profit per unit times the number of units:\n",
    "\n",
    "$$ Z = 10 x + 7 y + 5 z $$.\n",
    "\n",
    "We must then write down the labur constraints:\n",
    "\n",
    "$$ 0.08 x + 0.11 y + 0.18 z \\leq 150 $$,\n",
    "$$ 0.19 x + 0.07 y + 0.15 z \\leq 150 $$.\n",
    "\n",
    "We wish to maximise the profit, so we write the linear programme in its totality as:\n",
    "\n",
    "$$Z^{*} =  \\textit{ maximise } 10 x + 7 y + 5 z \\quad \\quad \\text{subject to:}$$\n",
    "$$ 0.08 x + 0.11 y + 0.18 z \\leq 150 $$,\n",
    "$$ 0.19 x + 0.07 y + 0.15 z \\leq 150 $$.\n",
    "$$x, y, z \\geq 0 $$"
   ]
  },
  {
   "cell_type": "markdown",
   "id": "3ce9daed",
   "metadata": {},
   "source": [
    "Now, writing this as a Mosel problem, we obtain (found in _xyz.mos_):"
   ]
  },
  {
   "cell_type": "code",
   "execution_count": null,
   "id": "21f7706c",
   "metadata": {},
   "outputs": [],
   "source": [
    "model \"XYZ\"\n",
    " uses \"mmxprs\"                  ! We use Xpress-Optimiser\n",
    "\n",
    " declarations\n",
    "  x,y,z: mpvar  ! Decision variables: produced quantities\n",
    " end-declarations\n",
    "\n",
    " x is_integer\n",
    " y is_integer\n",
    " z is_integer\n",
    "\n",
    " Profit   :=   10*x +    7*y +    5*z         ! Objective function\n",
    " MachineA := 0.08*x + 0.11*y + 0.18*z <= 150  ! Hours on Machine A constraint\n",
    " MachineB := 0.19*x + 0.07*y + 0.15*z <= 150  ! Hours on Machine B constraint\n",
    "\n",
    " maximize(Profit)               ! Solve the problem\n",
    "\n",
    " writeln(\"\")\n",
    " writeln(\"Make \", getsol(x), \" parts of type X\")\n",
    " writeln(\"Make \", getsol(y), \" parts of type Y\")\n",
    " writeln(\"Make \", getsol(z), \" parts of type Z\")\n",
    " writeln(\"\")\n",
    " writeln(\"Best profit is \", getobjval)\n",
    " writeln(\"\")\n",
    "\n",
    "end-model"
   ]
  },
  {
   "cell_type": "markdown",
   "id": "20ae5dc1",
   "metadata": {},
   "source": [
    "## The Investment Risk Problem"
   ]
  },
  {
   "cell_type": "markdown",
   "id": "e37421d8",
   "metadata": {},
   "source": [
    "An investor has 1,200,000 euros to invest. Following an analysis of the available options, they have determined that there are two options worth investing in. The investor can buy stocks, or money, a unit of which is estimated to yield a return of 5 euros and 4 euros, respectively. The risk associated with each unit of stock purchased is measured in terms of some recongised risk units. For the stock, this is 8 per unit and for the money, 3 per unit. The investor wishes to invest at least 60,000 euros, but each unit of stock will cost 50 euro and each unit of currency will cost 100 euro. Additionally, the investor wishes to purchase a minimum of 300,000 euros worth of the currency to ensure a diverse investment portfolio. Fractional investments are allowed for each option. Under these conditions, what can we invest to minimise our risk?"
   ]
  },
  {
   "cell_type": "markdown",
   "id": "b7479a02",
   "metadata": {},
   "source": [
    "We start with the variables. For each option, we need a non-negative continuous variable, since our investments may be fractional and potentially zero-valued or positive:\n",
    "\n",
    "$$ x_{s}, x_{c} \\in \\mathbb{R}^{+}_{0}$$\n",
    "\n",
    "Next, we need to take care of the risk minimisation. Each unit of stock incurs a risk of risk units and each unit of currency a risk of 3 risk units. Since we wish to minimise the total risk, we must minimuse the sum of the risk per unit times the units:\n",
    "\n",
    "$$ Z^{*} = \\text{ minimise } 8 x_{s} + 3 x_{c}  \\quad \\quad \\text{subject to:}$$\n",
    "\n",
    "some constraints. Next, we must not allow the total investment to exceed a cost of 1,200,000 euros, so we must compute the cost of the investment and build an inequality to limit the sum:\n",
    "\n",
    "$$ 50 x_{s} + 100 x_{c} \\leq 1,200,000$$.\n",
    "\n",
    "We must also consider that we have to yield a minimum of 60,000 to satisfy our investment goals. To this end, we build an inequality of the form:\n",
    "\n",
    "$$ 5 x_{s} + 4 x_{c} \\geq 60,000 $$.\n",
    "\n",
    "Finally, we must also ensure that at least 300,000 euros of the investment fund is spent on the currency investment:\n",
    "\n",
    "$$ 100 x_{c} \\geq 300,000 $$. \n",
    "\n",
    "This gives us a linear programme as follows (_InvestmentRisk.mos_):\n",
    "\n",
    "$$ Z^{*} = \\text{ minimise } 8 x_{s} + 3 x_{c}  \\quad \\quad \\text{subject to:}$$\n",
    "$$ 50 x_{s} + 100 x_{c} \\leq 1,200,000$$,\n",
    "$$ 5 x_{s} + 4 x_{c} \\geq 60,000 $$,\n",
    "$$ 100 x_{c} \\geq 300,000 $$, \n",
    "$$ x_{s}, x_{c} \\geq 0$$.\n",
    "\n",
    "This can be written as a Mosel model as follows:"
   ]
  },
  {
   "cell_type": "code",
   "execution_count": null,
   "id": "2b562af9",
   "metadata": {},
   "outputs": [],
   "source": [
    "model \"InvestmentRisk\"\n",
    " uses \"mmxprs\"\n",
    "\n",
    " declarations\n",
    "  x1: mpvar  ! number of units of stock (equity) bought\n",
    "  x2: mpvar  ! number of units of money bought\n",
    " end-declarations\n",
    "\n",
    " Risk   :=  8*x1 +   3*x2        ! Objective function\n",
    " ! Constraints\n",
    " Budget := 50*x1 + 100*x2 <= 1200000 ! Max amount to invest\n",
    " Return :=  5*x1 +   4*x2 >=   60000 ! Min income requirement\n",
    " Money  :=         100*x2 >=  300000 ! Min Money investment\n",
    "\n",
    " minimise( Risk )\n",
    "\n",
    " writeln(\"Buy \", getsol(x1), \" units of stock\")\n",
    " writeln(\"Buy \", getsol(x2), \" units of money\")\n",
    " writeln(\"Minimum Risk Index is \", getobjval)\n",
    "end-model"
   ]
  },
  {
   "cell_type": "markdown",
   "id": "bebb19de",
   "metadata": {},
   "source": [
    "One interesting thing that we can easily see in this problem is that we can immediately derive bounds on our variables and our objectve function by inspecting the constraints. For example, we can see that:\n",
    "\n",
    "$$ x_{c} \\geq 3000$$, \n",
    "\n",
    "and, more interestingly, that:\n",
    "\n",
    "$$Z^{*} \\geq 9000$$."
   ]
  },
  {
   "cell_type": "markdown",
   "id": "c15a9aff",
   "metadata": {},
   "source": [
    "## The Insurance Workers Problem"
   ]
  },
  {
   "cell_type": "markdown",
   "id": "f57fa609",
   "metadata": {},
   "source": [
    "In this case, we will have only the business description of the problem and we will attempt to derive a formulation as a linear programming problem and then to write it down as a Mosel model."
   ]
  },
  {
   "cell_type": "markdown",
   "id": "d2429b5e",
   "metadata": {},
   "source": [
    "An insurance company expects a large increase in workload as a result of its expansion. To deal with this, it will require additional workers to work on new claims cases. These workers are expected to be required to deal with at least 450 cases per day, but there is space enough in the office for only 40 new workers. The insurance company has determined that it can hire a mix of new permanent workers and also temporary workers, since this workload will be managed as time goes on. A permanent worker will be able to process 16 claims per day, while temporary workers will be able to process, on average, twelve per day. However, it is expected that, on a daily basis, an average permanent worker will make 0.5 mistakes in the filing process, while a temporary worker makes about 1.4 mistakes on average. The reputation of the company is important, and quality guarantees allow for no more than 25 mistakes per day across all cases served. If it costs 96 euro per day to hire a permanent worker and 70 euros per day to hire a temporary worker, how many workers do we hire of each type and what is the total cost, if we seek to minimise the cost per day of hiring the new workers?"
   ]
  }
 ],
 "metadata": {
  "kernelspec": {
   "display_name": "Python 3 (ipykernel)",
   "language": "python",
   "name": "python3"
  },
  "language_info": {
   "codemirror_mode": {
    "name": "ipython",
    "version": 3
   },
   "file_extension": ".py",
   "mimetype": "text/x-python",
   "name": "python",
   "nbconvert_exporter": "python",
   "pygments_lexer": "ipython3",
   "version": "3.8.10"
  }
 },
 "nbformat": 4,
 "nbformat_minor": 5
}
