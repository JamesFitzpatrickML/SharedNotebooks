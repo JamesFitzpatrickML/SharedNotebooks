{
 "cells": [
  {
   "cell_type": "markdown",
   "id": "51c9d74f",
   "metadata": {},
   "source": [
    "## Solving Larger Problems with Mosel"
   ]
  },
  {
   "cell_type": "markdown",
   "id": "3e3ebcce",
   "metadata": {},
   "source": [
    "In many cases we will find that (MI)LPs will be large enough that writing them down mathematically is tedious and that writing them as problems for our favourite solver is even more tedious. There may be many variables and constraints in a given problem, and the coefficients of the constraint matrix may be subject to change. If this is the case, it is best that we do not need to write out a new model every time we wish to solve a set of related problems. We will see in this tutorial an example of such a situation in the context of the classic Combinatorial Optimisation Problem: the Knapsack Problem."
   ]
  },
  {
   "cell_type": "markdown",
   "id": "9a7f558d",
   "metadata": {},
   "source": [
    "### The 0-1 Knapsack Problem"
   ]
  },
  {
   "cell_type": "markdown",
   "id": "243012d0",
   "metadata": {},
   "source": [
    "Consider that we have a set of items that we wish to put in our knapsack to take home. Our knapsack, unfortunately, has limited capacity, and we must decide among all of the items that we can pack, which combination of them we think is best to bring that can fit in our pack.\n",
    "\n",
    "Each item $i$ in the set of items that we can bring has some associated value (in Euros, perhaps) $v_{i}$ and an associated weight $w_{i}$ (in Kilograms, perhaps). We can only have one of each item and the maximum capacity of the pack is $K$ kilograms. If we wish to maximise the value of the items in the pack, then we can find the optimal combination of items by solving a problem of the form:\n",
    "\n",
    "$$ Z^{*} = \\text{ maximise} \\quad Z = \\sum_{i=1}^{n} v_{i}x_{i} \\quad \\quad \\text{subject to:}$$\n",
    "$$\\sum_{i}^{n}x_{i}w_{i} \\leq K$$\n",
    "$$x_{i} \\in \\{0,1\\} \\quad \\forall i \\in \\{1,...,n\\}$$\n",
    "\n",
    "This is a relatively straightforward pure binary integer programme, but can be very difficult to solve for large sets of items and additional constraints."
   ]
  },
  {
   "cell_type": "markdown",
   "id": "03993be7",
   "metadata": {},
   "source": [
    "### Maximising the Value of Captured Items in a Video Game"
   ]
  },
  {
   "cell_type": "markdown",
   "id": "bc1d372c",
   "metadata": {},
   "source": [
    "Imagine we have just cleared a dungeon in a video game and now have to decide which items we will take back to the nearest town to sell to the merchants. We have limited space in the pack, and wish to maximise the amount of gold we can earn by selling to these merchants. Given the data below, which of the items should we take to maximise our profit?"
   ]
  },
  {
   "cell_type": "markdown",
   "id": "61e13ffa",
   "metadata": {},
   "source": [
    "| Item Name | Item Value | Item Weight | Item Quantity |\n",
    "| --- | --- | --- | -- |\n",
    "| Bronze Shield | 250.0 | 7.8 | 1 |\n",
    "| Bronze Helmet | 147.0 | 6.7 | 1 |\n",
    "| Silver Sword | 348.0 | 5.1 | 1 |\n",
    "| Iron Cuirass | 452.0 | 14.9 | 1 |\n",
    "| Yew Longbow | 143.0 | 3.2 | 1 |\n",
    "| Birch Arrows | 3.5 | 0.2 | 1 |\n",
    "| Pine Arrows | 2.4 | 0.1 | 1 |\n",
    "| Soul Stones | 86.3 | 0.04 | 1 |\n",
    "| Healing Potions | 43.4 | 0.1 | 1 |\n",
    "| Energy Potions | 35.8 | 0.1 | 1 |\n",
    "| Magic Ring | 178.0 | 0.04 | 1 |\n",
    "| Apples | 0.5 | 0.1 | 1 |\n",
    "| Oranges | 0.6 | 0.1 | 1 |\n",
    "| Smoked Meats | 5.4 | 0.3 | 1 |\n",
    "| Cabbages | 0.3 | 0.2 | 1 |\n",
    "| Cinnamon Rolls | 2.1 | 0.1 | 1 |\n",
    "\n",
    "Finally, let us say that we can fit no more than 10 kg of items in the knapsack."
   ]
  },
  {
   "cell_type": "code",
   "execution_count": null,
   "id": "598c245a",
   "metadata": {},
   "outputs": [],
   "source": [
    "model knapsackGame\n",
    "    uses \"mmxprs\"\n",
    "    declarations\n",
    "        bronze_shield: mpvar\n",
    "        bronze_helmet: mpvar\n",
    "        silver_sword: mpvar\n",
    "        iron_cuirass: mpvar\n",
    "        yew_longbow: mpvar\n",
    "        birch_arrows: mpvar\n",
    "        pine_arrows: mpvar\n",
    "        soul_stones: mpvar\n",
    "        healing_potions: mpvar\n",
    "        energy_potions: mpvar\n",
    "        magic_ring: mpvar\n",
    "        apples: mpvar\n",
    "        oranges: mpvar\n",
    "        smoked_meats: mpvar\n",
    "        cabbages: mpvar\n",
    "        cinnamon_rolls: mpvar\n",
    "\n",
    "        bronze_shield_value = 250.0\n",
    "        bronze_helmet_value = 147.0\n",
    "        silver_sword_value = 348.0\n",
    "        iron_cuirass_value = 452.0\n",
    "        yew_longbow_value = 143.0\n",
    "        birch_arrow_value = 3.5\n",
    "        pine_arrow_value = 2.4\n",
    "        soul_stone_value = 86.3\n",
    "        healing_potion_value = 43.4\n",
    "        energy_potion_value = 35.8\n",
    "        magic_ring_value = 178.0\n",
    "        apple_value = 0.5\n",
    "        orange_value = 0.6\n",
    "        smoked_meat_value = 5.4\n",
    "        cabbage_value = 0.3\n",
    "        cinnamon_roll_value = 2.1\n",
    "\n",
    "        bronze_shield_weight = 7.8\n",
    "        bronze_helmet_weight = 6.7\n",
    "        silver_sword_weight = 5.1\n",
    "        iron_cuirass_weight = 14.9\n",
    "        yew_longbow_weight = 3.2\n",
    "        birch_arrow_weight = 0.2\n",
    "        pine_arrow_weight = 0.1\n",
    "        soul_stone_weight = 0.04\n",
    "        healing_potion_weight = 0.1\n",
    "        energy_potion_weight = 0.1\n",
    "        magic_ring_weight = 0.04\n",
    "        apple_weight = 0.1\n",
    "        orange_weight = 0.1\n",
    "        smoked_meat_weight = 0.3\n",
    "        cabbage_weight = 0.2\n",
    "        cinnamon_roll_weight = 0.1\n",
    "\n",
    "        weight_limit = 10.0\n",
    "    end-declarations\n",
    "        bronze_shield is_binary\n",
    "        bronze_helmet is_binary\n",
    "        silver_sword is_binary\n",
    "        iron_cuirass is_binary\n",
    "        yew_longbow is_binary\n",
    "        birch_arrows is_binary\n",
    "        pine_arrows is_binary\n",
    "        soul_stones is_binary\n",
    "        healing_potions is_binary\n",
    "        energy_potions is_binary\n",
    "        magic_ring is_binary\n",
    "        apples is_binary\n",
    "        oranges is_binary\n",
    "        smoked_meats is_binary\n",
    "        cabbages is_binary\n",
    "        cinnamon_rolls is_binary\n",
    "\n",
    "        knapsack_value := bronze_shield * bronze_shield_value + bronze_helmet * bronze_helmet_value + silver_sword * silver_sword_value + iron_cuirass * iron_cuirass_value + yew_longbo\\\n",
    "w * yew_longbow_value + birch_arrows * birch_arrow_value + pine_arrows * pine_arrow_value + soul_stones * soul_stone_value + healing_potions * healing_potion_value + energy_potions * e\\\n",
    "nergy_potion_value + magic_ring * magic_ring_value + apples * apple_value + oranges * orange_value + smoked_meats * smoked_meat_value + cabbages * cabbage_value + cinnamon_rolls * cinn\\\n",
    "amon_roll_value\n",
    "            \n",
    "        knapsack_weight := bronze_shield * bronze_shield_weight + bronze_helmet * bronze_helmet_weight + silver_sword * silver_sword_weight + iron_cuirass * iron_cuirass_weight + yew_l\\\n",
    "ongbow * yew_longbow_weight + birch_arrows * birch_arrow_weight + pine_arrows * pine_arrow_weight + soul_stones * soul_stone_weight + healing_potions * healing_potion_weight + energy_p\\\n",
    "otions * energy_potion_weight + magic_ring * magic_ring_weight + apples * apple_weight + oranges * orange_weight + smoked_meats * smoked_meat_weight + cabbages * cabbage_weight + cinna\\\n",
    "mon_rolls * cinnamon_roll_weight\n",
    "\n",
    "        knapsack_weight <= weight_limit\n",
    "        \n",
    "        maximize(knapsack_value)\n",
    "      \n",
    "        writeln(\"Optimal knapsack value: \", getobjval)\n",
    "        writeln(\"Optimal knapsack weightL \", getsol(knapsack_weight))"
   ]
  },
  {
   "cell_type": "markdown",
   "id": "462b34cb",
   "metadata": {},
   "source": [
    "Clearly, this is not an efficient solution. Instead, we will read the data from our pre-prepared file, _knapsackGameA.dat_, which will contain all of the above information for us. This file is in the _datafiles_ directory, but let's look at it here:"
   ]
  },
  {
   "cell_type": "markdown",
   "id": "c8b93185",
   "metadata": {},
   "source": [
    "### _knapsackGameA.dat_"
   ]
  },
  {
   "cell_type": "markdown",
   "id": "d0d35c79",
   "metadata": {},
   "source": [
    "! Data file for `knapsackGame*.mos`\n",
    "\n",
    "item_names: [\"bronze_shield\" \n",
    "\t     \"bronze_helmet\" \n",
    "\t     \"silver_sword\" \n",
    "\t     \"iron_cuirass\" \n",
    "\t     \"yew_longbow\" \n",
    "\t     \"birch_arrows\" \n",
    "\t     \"pine_arrows\" \n",
    "\t     \"soul_stones\" \n",
    "\t     \"healing_potions\" \n",
    "\t     \"energy_potions\" \n",
    "\t     \"magic_ring\" \n",
    "\t     \"apples\" \n",
    "\t     \"oranges\" \n",
    "\t     \"smoked_meats\" \n",
    "\t     \"cabbages\" \n",
    "\t     \"cinnamon_rolls\"]\n",
    "\n",
    "item_values: [(\"bronze_shield\") 250.0 \n",
    "\t      (\"bronze_helmet\") 147.0 \n",
    "\t      (\"silver_sword\") 348.0 \n",
    "\t      (\"iron_cuirass\") 452.0 \n",
    "\t      (\"yew_longbow\") 143.0 \n",
    "\t      (\"birch_arrows\") 3.5 \n",
    "\t      (\"pine_arrows\") 2.4 \n",
    "\t      (\"soul_stones\") 86.3 \n",
    "\t      (\"healing_potions\") 43.4 \n",
    "\t      (\"energy_potions\") 35.8 \n",
    "\t      (\"magic_ring\") 178.0 \n",
    "\t      (\"apples\") 0.5 \n",
    "\t      (\"oranges\") 0.6 \n",
    "\t      (\"smoked_meats\") 5.4 \n",
    "\t      (\"cabbages\") 0.3 \n",
    "\t      (\"cinnamon_rolls\") 2.1 ]\n",
    "\n",
    "item_weights: [(\"bronze_shield\") 7.8 \n",
    "\t      (\"bronze_helmet\") 6.7 \n",
    "\t      (\"silver_sword\") 5.1 \n",
    "\t      (\"iron_cuirass\") 14.9 \n",
    "\t      (\"yew_longbow\") 3.2 \n",
    "\t      (\"birch_arrows\") 0.2 \n",
    "\t      (\"pine_arrows\") 0.1 \n",
    "\t      (\"soul_stones\") 0.04 \n",
    "\t      (\"healing_potions\") 0.1 \n",
    "\t      (\"energy_potions\") 0.1 \n",
    "\t      (\"magic_ring\") 0.04 \n",
    "\t      (\"apples\") 0.1 \n",
    "\t      (\"oranges\") 0.1 \n",
    "\t      (\"smoked_meats\") 0.3 \n",
    "\t      (\"cabbages\") 0.2 \n",
    "\t      (\"cinnamon_rolls\") 0.1 ]\n",
    "\n",
    "\n",
    "weight_limit: 10.0"
   ]
  },
  {
   "cell_type": "markdown",
   "id": "3426b4c1",
   "metadata": {},
   "source": [
    "Now, we just need to handle filereading with Mosel."
   ]
  },
  {
   "cell_type": "markdown",
   "id": "6716d058",
   "metadata": {},
   "source": [
    "### Filereading with Mosel"
   ]
  },
  {
   "cell_type": "markdown",
   "id": "7f095951",
   "metadata": {},
   "source": [
    "We first make the basic assumption that the file we are reading is formatted correctly. If not, we will have more headaches. For now, we assume it takes the basic form that it does above. For more file-reading information, consult the quick reference guide."
   ]
  },
  {
   "cell_type": "markdown",
   "id": "279dbc35",
   "metadata": {},
   "source": [
    "The first thing we need to do is to declare the objects that we are going to use. For this, we will need the list of the item names. We will use these names as indices into our arrays.\n",
    "\n",
    "Next, we create three arrays. These are the arrays containing:\n",
    "- The item values.\n",
    "- The item weights.\n",
    "- The item variables\n",
    "Notice for these arrays we give the strings as the indices into them. That means to retrieve an element of these arrays, we will need to use the string as an index.\n",
    "\n",
    "Lastly, we define a real-valued constant for the weight limit of the knapsack."
   ]
  },
  {
   "cell_type": "code",
   "execution_count": null,
   "id": "6700754c",
   "metadata": {},
   "outputs": [],
   "source": [
    "    declarations\n",
    "    item_names: set of string !Declare the set of strings describing the items\n",
    "\n",
    "    item_values: array(item_names) of real !Declare the array of item values, with string indices\n",
    "    item_weights: array(item_names) of real !Declare the array of item weights, with string indic\n",
    "    variables: array(item_names) of mpvar !Declare the array of variables, with string indices\n",
    "    \n",
    "    weight_limit: real !Declare the weight limit val\n",
    "    end-declarations"
   ]
  },
  {
   "cell_type": "markdown",
   "id": "9940972d",
   "metadata": {},
   "source": [
    "So far we have only declared that these objects exist. We must fill them with values. For this, we now need to start using the _intializations_ section. \n",
    "\n",
    "We do this for the name strings and the array of values and weights. We will deal with the variables afterwards. We also assign a value to the weight limit."
   ]
  },
  {
   "cell_type": "code",
   "execution_count": null,
   "id": "2cf219b4",
   "metadata": {},
   "outputs": [],
   "source": [
    "    initializations from \"knapsackGameA.dat\" ! Initialise values from the specified file\n",
    "        item_names item_values item_weights !Initialise these declared items with values from the specified file\n",
    "        weight_limit\n",
    "    end-initializations"
   ]
  },
  {
   "cell_type": "markdown",
   "id": "5121a863",
   "metadata": {},
   "source": [
    "Once we have these, we once again create the constraints as we did before. This time we sum using the item name strings as indices into the arrays. We will also use the _forall_ utility to help us iterate over all the variables in the variables array so that we can set them all as binary variables."
   ]
  },
  {
   "cell_type": "code",
   "execution_count": null,
   "id": "8a37443e",
   "metadata": {},
   "outputs": [],
   "source": [
    "    knapsack_value := sum(item_name in item_names) item_values(item_name) * variables(item_name) !Define objective value\n",
    "\n",
    "    knapsack_weight :=  sum(item_name in item_names) item_weights(item_name) * variables(item_name) !Define knapsack weight\n",
    "    knapsack_weight <= weight_limit !Set the knapsack weight constraint\n",
    "    \n",
    "    forall(item_name in item_names) variables(item_name) is_binary !Make sure all variables are binary"
   ]
  },
  {
   "cell_type": "markdown",
   "id": "32af64ee",
   "metadata": {},
   "source": [
    "Next we will ask Xpress to solve the problem, maximising the value of the items in the knapsack."
   ]
  },
  {
   "cell_type": "code",
   "execution_count": null,
   "id": "83dece05",
   "metadata": {},
   "outputs": [],
   "source": [
    "    maximize(knapsack_value) !Solve the problem, maximising knapsack value"
   ]
  },
  {
   "cell_type": "markdown",
   "id": "fc5be00b",
   "metadata": {},
   "source": [
    "With some printing, we can see the solution."
   ]
  },
  {
   "cell_type": "code",
   "execution_count": null,
   "id": "ac31a2c9",
   "metadata": {},
   "outputs": [],
   "source": [
    "    writeln(\"Optimal value of the knapsack: \", getobjval) !Print value of all chosen items\n",
    "    writeln(\"\\n\")\n",
    "    forall(item_name in item_names)\n",
    "        if getsol(variables(item_name)) > 0.1 then !If the item has nonzero variable (was chosen)\n",
    "            writeln(\"Including \", item_name) !Print the item name\n",
    "        end-if\n",
    "    writeln(\"\\n\")\n",
    "    writeln(\"Weight of knapsack: \", getsol(knapsack_weight)) !Print the weight of the knapsack\n"
   ]
  },
  {
   "cell_type": "markdown",
   "id": "511564b9",
   "metadata": {},
   "source": [
    "When we put it all together, we get:"
   ]
  },
  {
   "cell_type": "code",
   "execution_count": null,
   "id": "6c2ddb0d",
   "metadata": {},
   "outputs": [],
   "source": [
    "model knapsackGameA\n",
    "    uses \"mmxprs\"\n",
    "\n",
    "    declarations\n",
    "    item_names: set of string !Declare the set of strings describing the items\n",
    "\n",
    "    item_values: array(item_names) of real !Declare the array of item values, with string indices\n",
    "    item_weights: array(item_names) of real !Declare the array of item weights, with string indic\n",
    "    variables: array(item_names) of mpvar !Declare the array of variables, with string indices\n",
    "    \n",
    "    weight_limit: real !Declare the weight limit val\n",
    "    end-declarations\n",
    "    \n",
    "    initializations from \"knapsackGameA.dat\" ! Initialise values from the specified file\n",
    "        item_names item_values item_weights !Initialise these declared items with values from the specified file\n",
    "        weight_limit\n",
    "    end-initializations\n",
    "    \n",
    "    knapsack_value := sum(item_name in item_names) item_values(item_name) * variables(item_name) !Define objective value\n",
    "\n",
    "    knapsack_weight :=  sum(item_name in item_names) item_weights(item_name) * variables(item_name) !Define knapsack weight\n",
    "    knapsack_weight <= weight_limit !Set the knapsack weight constraint\n",
    "    \n",
    "    forall(item_name in item_names) variables(item_name) is_binary !Make sure all variables are binary\n",
    "    maximize(knapsack_value) !Solve the problem, maximising knapsack value\n",
    "\n",
    "    writeln(\"Optimal value of the knapsack: \", getobjval) !Print value of all chosen items\n",
    "    writeln(\"\\n\")\n",
    "    forall(item_name in item_names)\n",
    "        if getsol(variables(item_name)) > 0.1 then !If the item has nonzero variable (was chosen)\n",
    "            writeln(\"Including \", item_name) !Print the item name\n",
    "        end-if\n",
    "    writeln(\"\\n\")\n",
    "    writeln(\"Weight of knapsack: \", getsol(knapsack_weight)) !Print the weight of the knapsack\n",
    "end-model"
   ]
  },
  {
   "cell_type": "markdown",
   "id": "9377cb12",
   "metadata": {},
   "source": [
    "If we got this far, then we have dealt with a representative case of some more complex problem solving approaches. Next we try again, adding a few complications to the problem."
   ]
  },
  {
   "cell_type": "markdown",
   "id": "28a37b1f",
   "metadata": {},
   "source": [
    "### A Constrained Integer Knapsack Problem"
   ]
  },
  {
   "cell_type": "markdown",
   "id": "4021876b",
   "metadata": {},
   "source": [
    "Let us consider the case that we have several of some items. If we can bring multiples of some items, then we now need to represent our quantities with general non-negative integers instead of binary variables. This means we are now solving an integer linear programme (ILP). \n",
    "\n",
    "Suppose further, that although we can bring many valuable items home, we know that the traders in the nearby town only have a limited supply of gold with which to buy items from us. The weaponsmith (W) has only 656 gold, alchemist (A) only 267 gold and the merchant (M) only 123 gold. If we bring more than they are willing to buy from us, then we have carried additional weight for no reason. We also have a better knapsack that can carry more items (up to 35kg).\n",
    "\n",
    "The quantities of the items that we have found in the dungeon are as follows:"
   ]
  },
  {
   "cell_type": "markdown",
   "id": "9f94545c",
   "metadata": {},
   "source": [
    "| Item Name | Item Value | Item Weight | Item Quantity | Item Buyer |\n",
    "| --- | --- | --- | --- | --- |\n",
    "| Bronze Shield | 250.0 | 7.8 | 1 | W |\n",
    "| Bronze Helmet | 147.0 | 6.7 | 2 | W |\n",
    "| Silver Sword | 348.0 | 5.1 | 1 | W |\n",
    "| Iron Cuirass | 452.0 | 14.9 | 1 | W |\n",
    "| Yew Longbow | 143.0 | 3.2 | 2 | W |\n",
    "| Birch Arrows | 3.5 | 0.2 | 17 | W |\n",
    "| Pine Arrows | 2.4 | 0.1 | 19 | W |\n",
    "| Soul Stones | 86.3 | 0.04 | 4 | A |\n",
    "| Healing Potions | 43.4 | 0.1 | 3 | A |\n",
    "| Energy Potions | 35.8 | 0.1 | 4 | A |\n",
    "| Magic Ring | 178.0 | 0.04 | 1 | A |\n",
    "| Apples | 0.5 | 0.1 | 8 | M |\n",
    "| Oranges | 0.6 | 0.1 | 5 | M |\n",
    "| Smoked Meats | 5.4 | 0.3 | 2 | M |\n",
    "| Cabbages | 0.3 | 0.2 | 3 | M |\n",
    "| Cinnamon Rolls | 2.1 | 0.1 | 4 | M |"
   ]
  },
  {
   "cell_type": "markdown",
   "id": "70a2d683",
   "metadata": {},
   "source": [
    "For each item we now have a quantity $q_{i}$ and we now have three sets of items (W, A, M), for which the sum of their values, $V_{W}, V_{A}, V_{M}$, is constrained. We now formulate the ILP as:\n",
    "\n",
    "$$ Z^{*} = \\text{ maximise} \\quad Z = \\sum_{i=1}^{n} v_{i}x_{i} \\quad \\quad \\text{subject to:}$$\n",
    "$$\\sum_{i}^{n}x_{i}w_{i} \\leq K$$\n",
    "$$\\sum_{i \\in W}x_{i}v_{i} \\leq K_{W} $$\n",
    "$$\\sum_{i \\in A}x_{i}v_{i} \\leq K_{A} $$\n",
    "$$\\sum_{i \\in M}x_{i}v_{i} \\leq K_{M} $$\n",
    "$$x_{i} \\in \\{0, 1, ..., q_{i}\\} \\quad \\forall i \\in \\{1,...,n\\}$$"
   ]
  },
  {
   "cell_type": "markdown",
   "id": "5bb3e4e7",
   "metadata": {},
   "source": [
    "If we look at the file knapsackGameB.dat, we can see all of this information:"
   ]
  },
  {
   "cell_type": "markdown",
   "id": "1758bdaa",
   "metadata": {},
   "source": [
    "### _knapsackGameB.dat_"
   ]
  },
  {
   "cell_type": "markdown",
   "id": "1152b0e1",
   "metadata": {},
   "source": [
    "! Data file for `knapsackGame*.mos`\n",
    "\n",
    "item_names: [\"bronze_shield\" \n",
    "             \"bronze_helmet\" \n",
    "             \"silver_sword\" \n",
    "             \"iron_cuirass\" \n",
    "             \"yew_longbow\" \n",
    "             \"birch_arrows\" \n",
    "             \"pine_arrows\" \n",
    "             \"soul_stones\" \n",
    "             \"healing_potions\" \n",
    "             \"energy_potions\" \n",
    "             \"magic_ring\" \n",
    "             \"apples\" \n",
    "             \"oranges\" \n",
    "             \"smoked_meats\" \n",
    "             \"cabbages\" \n",
    "             \"cinnamon_rolls\"]\n",
    "\n",
    "weapons: [\"bronze_shield\" \n",
    "          \"bronze_helmet\" \n",
    "          \"silver_sword\" \n",
    "          \"iron_cuirass\" \n",
    "          \"yew_longbow\" \n",
    "          \"birch_arrows\" \n",
    "          \"pine_arrows\"]\n",
    "\n",
    "magic_items: [\"soul_stones\" \n",
    "              \"healing_potions\" \n",
    "              \"energy_potions\" \n",
    "              \"magic_ring\"]\n",
    "\n",
    "foodstuffs: [\"apples\" \n",
    "             \"oranges\" \n",
    "             \"smoked_meats\" \n",
    "             \"cabbages\" \n",
    "             \"cinnamon_rolls\"]\n",
    "\n",
    "item_values: [(\"bronze_shield\") 250.0 \n",
    "              (\"bronze_helmet\") 147.0 \n",
    "              (\"silver_sword\") 348.0 \n",
    "              (\"iron_cuirass\") 452.0 \n",
    "              (\"yew_longbow\") 143.0 \n",
    "              (\"birch_arrows\") 3.5 \n",
    "              (\"pine_arrows\") 2.4 \n",
    "              (\"soul_stones\") 86.3 \n",
    "              (\"healing_potions\") 43.4 \n",
    "              (\"energy_potions\") 35.8 \n",
    "              (\"magic_ring\") 178.0 \n",
    "              (\"apples\") 0.5 \n",
    "              (\"oranges\") 0.6 \n",
    "              (\"smoked_meats\") 5.4 \n",
    "              (\"cabbages\") 0.3 \n",
    "              (\"cinnamon_rolls\") 2.1 ]\n",
    "\n",
    "item_weights: [(\"bronze_shield\") 7.8 \n",
    "              (\"bronze_helmet\") 6.7 \n",
    "              (\"silver_sword\") 5.1 \n",
    "              (\"iron_cuirass\") 14.9 \n",
    "              (\"yew_longbow\") 3.2 \n",
    "              (\"birch_arrows\") 0.2 \n",
    "              (\"pine_arrows\") 0.1 \n",
    "              (\"soul_stones\") 0.04 \n",
    "              (\"healing_potions\") 0.1 \n",
    "              (\"energy_potions\") 0.1 \n",
    "              (\"magic_ring\") 0.04 \n",
    "              (\"apples\") 0.1 \n",
    "              (\"oranges\") 0.1 \n",
    "              (\"smoked_meats\") 0.3 \n",
    "              (\"cabbages\") 0.2 \n",
    "              (\"cinnamon_rolls\") 0.1 ]\n",
    "\n",
    "item_quantities: [(\"bronze_shield\") 1 \n",
    "                  (\"bronze_helmet\") 2 \n",
    "                  (\"silver_sword\") 1 \n",
    "                  (\"iron_cuirass\") 1 \n",
    "                  (\"yew_longbow\") 2 \n",
    "                  (\"birch_arrows\") 17 \n",
    "                  (\"pine_arrows\") 19 \n",
    "                  (\"soul_stones\") 4 \n",
    "                  (\"healing_potions\") 3 \n",
    "                  (\"energy_potions\") 4 \n",
    "                  (\"magic_ring\") 1\n",
    "                  (\"apples\") 8\n",
    "                  (\"oranges\") 5 \n",
    "                  (\"smoked_meats\") 2 \n",
    "                  (\"cabbages\") 3\n",
    "                  (\"cinnamon_rolls\") 4 ]\n",
    "\n",
    "weight_limit: 35.0\n",
    "\n",
    "weaponsmith_gold: 656.0\n",
    "\n",
    "alchemist_gold: 267.0\n",
    "\n",
    "merchant_gold: 123.0"
   ]
  },
  {
   "cell_type": "markdown",
   "id": "c662a4b7",
   "metadata": {},
   "source": [
    "We will start off with the basics of file reading and then you can try and complete the Mosel model.\n",
    "\n",
    "Firstly, we will need to be able to disntguish between the sets of variables to know which buyer will be interested in which items. For that reason, we create three new sets of strings.\n",
    "\n",
    "Next, we will need to keep track of the quantities of the items that we have. Our variables will no longer be necessarily binary, so we need to bound each of the integer variables to say that we can pack no more of each item than we have found in the dungeon.\n",
    "\n",
    "Lastly, we need three new constants to represent the amount of gold that each buyer will use with us."
   ]
  },
  {
   "cell_type": "code",
   "execution_count": null,
   "id": "f47f35a5",
   "metadata": {},
   "outputs": [],
   "source": [
    "model knapsackGameB\n",
    "    uses \"mmxprs\"\n",
    "\n",
    "    declarations\n",
    "        item_names: set of string !Declare the set of strings describing the items\n",
    "\n",
    "        weapons: set of string !Declare the set of strings that are weapons\n",
    "        magic_items: set of string !Declare the set of strings that are magical items\n",
    "        foodstuffs: set of string !Declare the set of strings that are foodstuffs\n",
    "\n",
    "        item_values: array(item_names) of real !Declare the array of item values, with string indices\n",
    "        item_weights: array(item_names) of real !Declare the array of item weights, with string indices\n",
    "        item_quantities: array(item_names) of real !Declare the array of item quantities, with string indices\n",
    "        variables: array(item_names) of mpvar !Declare the array of variables, with string indices\n",
    "\n",
    "        weight_limit: real !Declare the weight limit value\n",
    "        weaponsmith_gold: real !Declare the weaponsmith gold value\n",
    "        alchemist_gold: real !Declare the alcemist gold value\n",
    "        merchant_gold: real !Declare the merchant gold value\n",
    "    end-declarations"
   ]
  },
  {
   "cell_type": "markdown",
   "id": "4dcb8fd1",
   "metadata": {},
   "source": [
    "The initialisations are much the same as before:"
   ]
  },
  {
   "cell_type": "code",
   "execution_count": null,
   "id": "ba705a17",
   "metadata": {},
   "outputs": [],
   "source": [
    "    initializations from \"knapsackGameB.dat\" ! Initialise values from the specified file\n",
    "        item_names item_values item_weights item_quantities !Initialise these declared items with values from the specified file\n",
    "        weapons magic_items foodstuffs\n",
    "        weight_limit weaponsmith_gold alchemist_gold merchant_gold\n",
    "    end-initializations"
   ]
  },
  {
   "cell_type": "markdown",
   "id": "ff7e0bd0",
   "metadata": {},
   "source": [
    "While you will complete the rest of the Mosel model, it is useful to know how to sum over subsets of the indices. This is why we have the sets of strings for each type of item."
   ]
  },
  {
   "cell_type": "code",
   "execution_count": null,
   "id": "7351d404",
   "metadata": {},
   "outputs": [],
   "source": [
    "    weapons_value := sum(item_name in weapons) item_values(item_name) * variables(item_name) !Define cumulative value of weapons\n",
    "    magic_items_value := sum(item_name in magic_items) item_values(item_name) * variables(item_name) !Define cumulative value of magic items\n",
    "    foodstuffs_value := sum(item_name in foodstuffs) item_values(item_name) * variables(item_name) !Define cumulative value of foodstuffs\n",
    "\n",
    "    weapons_value <= weaponsmith_gold\n",
    "    magic_items_value <= alchemist_gold\n",
    "    foodstuffs_value <= merchant_gold"
   ]
  }
 ],
 "metadata": {
  "kernelspec": {
   "display_name": "Python 3 (ipykernel)",
   "language": "python",
   "name": "python3"
  },
  "language_info": {
   "codemirror_mode": {
    "name": "ipython",
    "version": 3
   },
   "file_extension": ".py",
   "mimetype": "text/x-python",
   "name": "python",
   "nbconvert_exporter": "python",
   "pygments_lexer": "ipython3",
   "version": "3.8.10"
  }
 },
 "nbformat": 4,
 "nbformat_minor": 5
}
