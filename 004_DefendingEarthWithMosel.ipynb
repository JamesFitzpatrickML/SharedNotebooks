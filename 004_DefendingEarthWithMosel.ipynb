{
 "cells": [
  {
   "cell_type": "markdown",
   "id": "13699650",
   "metadata": {},
   "source": [
    "# Defence in Interstellar Warfare"
   ]
  },
  {
   "cell_type": "markdown",
   "id": "388bf613",
   "metadata": {},
   "source": [
    "As every kindergardener knows, interstellar warfare is expensive, difficult, and requires meticulous planning. This makes it the perfect realm for the use of optimisation problems. \n",
    "\n",
    "The distances involved in interstellar communication of any kind are necessarily great, such are the limitations placed on us by the ultimate speed limit of the universe, that of light, which is painfully slow when it comes to traversing the empty spaces between the stars. This makes conventional warfare between planets, in many senses, an affair that gives the advantage to the defender. If the defender can prevent enermy fleets from reaching their own planets, then it is almost impossible for the attacker to win. Moreover, even if the attacker can bridge these gaps once, cutting interstellar transit routes can render an attacking force useless without the complex logistical chains it would need to maintain an occupation.\n",
    "\n",
    "It is in this context that we encounter the Minimum Cut problem, a classical optimaisation problem. Consider the situation plotted below, where the enemy star systems (in red) have defined transit routes between them. The number along each edge represents, in some way, the quality of the transit infrastructure to support logistical operations between any given pair of star systems (higher is better). This can be seen similarly for green, the defenders.\n",
    "\n",
    "\n",
    "System $\\epsilon$, which originally belonged to the defenders, has fallen to the attackers. Having failed to retreat in good order, they have not completely destroyed the logistical support infrastructure from the systems they do currently occupy to system $\\epsilon$. Furthermore, they are signficicantly weakened. They have resolved that their only current course of action is to defend their homeworld $\\omega$ above all else, from the invading fleets, which are originating at the enermy home system at $\\alpha$. They can do this by allocating their fleet to cutting off traffic between pairs of systems, and hope that they can do this sufficiently well to prevent ships leaving $\\alpha$ from reaching $\\omega$. Currently their fleet, which can be deployed anywhere, is estimated to have the capacity to be able to prevent eight units of logistical capacity from transiting between stellar systems. \n",
    "\n",
    "They wish to identify the set of edges that separates this graph into two disjoint graphs that requires the least amount of ships of deploy. Which edges are these, and can they achieve their goals?"
   ]
  },
  {
   "cell_type": "markdown",
   "id": "b1d9fb01",
   "metadata": {},
   "source": [
    "![Stellar System Map](images/starSystems.png)"
   ]
  },
  {
   "cell_type": "markdown",
   "id": "fe29cd18",
   "metadata": {},
   "source": [
    "## The Minimum Cut Problem"
   ]
  },
  {
   "cell_type": "markdown",
   "id": "1f24f881",
   "metadata": {},
   "source": [
    "The minimum cut problem is the problem outlined above. Given a source node $\\alpha$ and a target node $\\omega$, which edges should we remove from the graph to ensure that there exists no simple path from $\\alpha$ to $\\omega$ to give us the set of such edges with the least cost. That is, which is the set of edges that we can remove (cut) that will separate $\\alpha$ and $\\omega$ whose weights sum to the smallest number?\n",
    "\n",
    "We can formulate such a problem as an integer programme in terms of the paths from $\\alpha$ to $\\omega$. The number of simple paths (paths containing nodes that do not repeat) between $\\alpha$ and $\\omega$ is finite, but may be large. We want to make sure that for each such path, at least one of those edges has been removed. In this way, we ensure that none of the paths can be used. We must then minimise the sum of the weights or costs of those edges.\n",
    "\n",
    "Consider that we have a binary variable $x_{e}$ for each edge  $e \\in E$ (there are nineteen edges) in the graph above. We will use these to represent whether or not we remove an edge. For each edge we also have a logistical score $\\ell_{e}$. We wish to minimise the sum of the scores of the chosen edges, since better routes are likely to be more difficult to blockade. Consider that we know about each path, $P = \\{p_{i} | i \\in \\{1, ..., m\\}\\}$ between $\\alpha$ and $\\omega$. We want to make sure that at least one edge in each path has been removed. Therefore, we can formulate the minimum cut problem as:\n",
    "\n",
    "$$\\text{minimise} \\sum_{e \\in E} \\ell_{e}x_{e} \\quad \\quad \\text{subject to:}$$\n",
    "$$ \\sum_{e \\in E}x_{e} \\geq 1 \\quad \\forall p_{i} \\in P$$\n",
    "$$x_{e} \\in \\{0, 1\\} \\quad \\forall e \\in E$$."
   ]
  },
  {
   "cell_type": "markdown",
   "id": "61064c9a",
   "metadata": {},
   "source": [
    "Of course, the number of paths may be large, and it will certainly depend on the stucture of the graph, so we will need to be able to construct this optimisation problem programmatically. To that end, we will attempt to answer these two questions by constructing and solving this binary integer programme, but also by reading the data from a file."
   ]
  }
 ],
 "metadata": {
  "kernelspec": {
   "display_name": "Python 3 (ipykernel)",
   "language": "python",
   "name": "python3"
  },
  "language_info": {
   "codemirror_mode": {
    "name": "ipython",
    "version": 3
   },
   "file_extension": ".py",
   "mimetype": "text/x-python",
   "name": "python",
   "nbconvert_exporter": "python",
   "pygments_lexer": "ipython3",
   "version": "3.8.10"
  }
 },
 "nbformat": 4,
 "nbformat_minor": 5
}
